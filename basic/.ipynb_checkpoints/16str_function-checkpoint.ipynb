{
 "cells": [
  {
   "cell_type": "markdown",
   "id": "fd63ae74",
   "metadata": {},
   "source": [
    "#### 파이썬의 문자열 다루는 함수들\n",
    "1. len - 길이 반환\n",
    "2. replace\n",
    "3. split\n",
    "4. find\n",
    "5. count\n",
    "\n",
    "> shift + tap 으로 함수의 정보를 확인할 수 있습니다"
   ]
  },
  {
   "cell_type": "code",
   "execution_count": 2,
   "id": "959db73e",
   "metadata": {},
   "outputs": [
    {
     "name": "stdout",
     "output_type": "stream",
     "text": [
      "문자열의 길이: 6\n"
     ]
    }
   ],
   "source": [
    "s = 'python'\n",
    "\n",
    "print('문자열의 길이:', len(s))"
   ]
  },
  {
   "cell_type": "code",
   "execution_count": 3,
   "id": "d25f42ad",
   "metadata": {},
   "outputs": [
    {
     "data": {
      "text/plain": [
       "4"
      ]
     },
     "execution_count": 3,
     "metadata": {},
     "output_type": "execute_result"
    }
   ],
   "source": [
    "# shift + tap\n",
    "\n",
    "len( range(1, 1001) ) #길이 1000\n",
    "len( [1,2,3,4] ) #길이 4"
   ]
  },
  {
   "cell_type": "code",
   "execution_count": 7,
   "id": "cc9e91d0",
   "metadata": {},
   "outputs": [
    {
     "data": {
      "text/plain": [
       "'파이썬 programming'"
      ]
     },
     "execution_count": 7,
     "metadata": {},
     "output_type": "execute_result"
    }
   ],
   "source": [
    "s = 'python programming'\n",
    "\n",
    "s = s.replace('python', '파이썬')\n",
    "\n",
    "s"
   ]
  }
 ],
 "metadata": {
  "kernelspec": {
   "display_name": "Python 3 (ipykernel)",
   "language": "python",
   "name": "python3"
  },
  "language_info": {
   "codemirror_mode": {
    "name": "ipython",
    "version": 3
   },
   "file_extension": ".py",
   "mimetype": "text/x-python",
   "name": "python",
   "nbconvert_exporter": "python",
   "pygments_lexer": "ipython3",
   "version": "3.9.7"
  }
 },
 "nbformat": 4,
 "nbformat_minor": 5
}
