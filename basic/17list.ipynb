{
 "cells": [
  {
   "cell_type": "markdown",
   "id": "ee9273ba",
   "metadata": {},
   "source": [
    "#### list\n",
    "1. 리스트는 나열된 자룔를 저장하는 자료형입니다.\n",
    "2. 다른 언어의 배열과 유사한 개념입니다.\n"
   ]
  },
  {
   "cell_type": "code",
   "execution_count": 2,
   "id": "b414fc6c",
   "metadata": {},
   "outputs": [
    {
     "data": {
      "text/plain": [
       "[1, 3, 5, 7, 9]"
      ]
     },
     "execution_count": 2,
     "metadata": {},
     "output_type": "execute_result"
    }
   ],
   "source": [
    "list1 = [1,2,3,4,5,6,7,8,9,10, '가']\n",
    "list1\n",
    "\n",
    "list2 = list( range(1, 50) )\n",
    "list2\n",
    "\n",
    "list3 = list( range(1, 10, 2) )\n",
    "list3"
   ]
  },
  {
   "cell_type": "markdown",
   "id": "efa7d1ab",
   "metadata": {},
   "source": [
    "#### 리스트 인덱싱, 슬라이싱"
   ]
  },
  {
   "cell_type": "code",
   "execution_count": 6,
   "id": "fc728f0e",
   "metadata": {},
   "outputs": [
    {
     "name": "stdout",
     "output_type": "stream",
     "text": [
      "[1, 2, 3, 4, 5, 6, 7, 8, 9]\n"
     ]
    },
    {
     "data": {
      "text/plain": [
       "3"
      ]
     },
     "execution_count": 6,
     "metadata": {},
     "output_type": "execute_result"
    }
   ],
   "source": [
    "list_ = list(range(1, 10))\n",
    "print( list_ )\n",
    "\n",
    "list_[0]\n",
    "list_[8]\n",
    "\n",
    "list_[len(list_) - 1] #list_[8] \n",
    "list_[2]"
   ]
  },
  {
   "cell_type": "code",
   "execution_count": 10,
   "id": "878caa48",
   "metadata": {},
   "outputs": [
    {
     "data": {
      "text/plain": [
       "[6, 7, 8, 9]"
      ]
     },
     "execution_count": 10,
     "metadata": {},
     "output_type": "execute_result"
    }
   ],
   "source": [
    "list_[:]\n",
    "list_[0:5]\n",
    "list_[::2] # 0~마지막에서 2번째 마다 슬라이싱\n",
    "list_[5:]"
   ]
  },
  {
   "cell_type": "code",
   "execution_count": 13,
   "id": "3e8eddc0",
   "metadata": {},
   "outputs": [
    {
     "data": {
      "text/plain": [
       "[10, 20, 3, 4, 5, 6, 7, 8, 9]"
      ]
     },
     "execution_count": 13,
     "metadata": {},
     "output_type": "execute_result"
    }
   ],
   "source": [
    "# 리스트 값 변경 (인덱싱을 사용)\n",
    "list_[0] = 10\n",
    "list_[1] = 20\n",
    "list_"
   ]
  },
  {
   "cell_type": "markdown",
   "id": "3c1bbc2b",
   "metadata": {},
   "source": [
    "#### 리스트의 연산 +,*"
   ]
  },
  {
   "cell_type": "code",
   "execution_count": 16,
   "id": "e855d12e",
   "metadata": {},
   "outputs": [
    {
     "data": {
      "text/plain": [
       "[1, 2, 3, 4, 5, 1, 2, 3, 4, 5, 1, 2, 3, 4, 5]"
      ]
     },
     "execution_count": 16,
     "metadata": {},
     "output_type": "execute_result"
    }
   ],
   "source": [
    "list1 = [1,2,3,4,5]\n",
    "list2 = [6,7,8]\n",
    "\n",
    "list1 + list2\n",
    "list1 * 3"
   ]
  },
  {
   "cell_type": "markdown",
   "id": "efd9f0b9",
   "metadata": {},
   "source": [
    "#### 리스트 값을 변수에 한번에 저장하기"
   ]
  },
  {
   "cell_type": "code",
   "execution_count": 20,
   "id": "56059bfe",
   "metadata": {},
   "outputs": [
    {
     "name": "stdout",
     "output_type": "stream",
     "text": [
      "1 2 3 4 5\n"
     ]
    }
   ],
   "source": [
    "# 좌항의 변수와 우항의 리스트 요소가 같으면 한번에 저장할 수 있습니다.\n",
    "a,b,c,d,e = list1\n",
    "\n",
    "print(a,b,c,d,e)"
   ]
  },
  {
   "cell_type": "markdown",
   "id": "aa55dfa8",
   "metadata": {},
   "source": [
    "#### 다차원 리스트"
   ]
  },
  {
   "cell_type": "code",
   "execution_count": 35,
   "id": "bac1e862",
   "metadata": {},
   "outputs": [
    {
     "data": {
      "text/plain": [
       "'소고'"
      ]
     },
     "execution_count": 35,
     "metadata": {},
     "output_type": "execute_result"
    }
   ],
   "source": [
    "list_ = [ [1,2,3], [4,5,6], [10,20,30,40,50] ]\n",
    "\n",
    "list_[0]\n",
    "list_[1]\n",
    "list_[2]\n",
    "\n",
    "list_[0][0] # 1\n",
    "list_[0][2] # 3\n",
    "list_[0][:2]\n",
    "list_[2][::2] #10, 30, 50\n",
    "\n",
    "list2 = ['소고기', '짜장면', '탕수육', '짬뽕']\n",
    "list2[0][0]\n",
    "list2[0][1]\n",
    "list2[0][:2]"
   ]
  }
 ],
 "metadata": {
  "kernelspec": {
   "display_name": "Python 3 (ipykernel)",
   "language": "python",
   "name": "python3"
  },
  "language_info": {
   "codemirror_mode": {
    "name": "ipython",
    "version": 3
   },
   "file_extension": ".py",
   "mimetype": "text/x-python",
   "name": "python",
   "nbconvert_exporter": "python",
   "pygments_lexer": "ipython3",
   "version": "3.9.7"
  }
 },
 "nbformat": 4,
 "nbformat_minor": 5
}
