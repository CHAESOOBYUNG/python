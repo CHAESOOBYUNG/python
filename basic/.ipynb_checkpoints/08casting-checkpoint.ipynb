{
 "cells": [
  {
   "cell_type": "markdown",
   "id": "62be6ee1",
   "metadata": {},
   "source": [
    "#### 형변환 (type casting)\n",
    "1. str()\n",
    "2. int()\n",
    "3. float()\n",
    "4. bool()\n",
    "\n",
    "* 단, 변환할 수 없는 값이라면 에러가 발생합니다."
   ]
  },
  {
   "cell_type": "code",
   "execution_count": 4,
   "id": "30545dac",
   "metadata": {},
   "outputs": [
    {
     "name": "stdout",
     "output_type": "stream",
     "text": [
      "홍길동의 점수는:90입니다\n"
     ]
    }
   ],
   "source": [
    "name = '홍길동'\n",
    "score = 90\n",
    "\n",
    "type(name)\n",
    "type(score)\n",
    "\n",
    "# name + str(score )\n",
    "print(name + '의 점수는:' + str(score) + '입니다')"
   ]
  },
  {
   "cell_type": "code",
   "execution_count": 6,
   "id": "ba496dfb",
   "metadata": {},
   "outputs": [
    {
     "name": "stdout",
     "output_type": "stream",
     "text": [
      "44\n"
     ]
    }
   ],
   "source": [
    "n1 = 10\n",
    "n2 = \"34\"\n",
    "\n",
    "print(n1 + int(n2) ) # 정수 덧셈"
   ]
  },
  {
   "cell_type": "code",
   "execution_count": 8,
   "id": "654cc0f1",
   "metadata": {},
   "outputs": [
    {
     "name": "stdout",
     "output_type": "stream",
     "text": [
      "44\n"
     ]
    }
   ],
   "source": [
    "# 타입변환 함수는 일시적으로 값을 변경해줄 뿐, 실제 값은 변경하지 않는다.\n",
    "n2 = int(n2)\n",
    "\n",
    "print(n1 + n2)"
   ]
  },
  {
   "cell_type": "code",
   "execution_count": 10,
   "id": "cde1a303",
   "metadata": {},
   "outputs": [
    {
     "name": "stdout",
     "output_type": "stream",
     "text": [
      "3.14\n",
      "<class 'float'>\n"
     ]
    }
   ],
   "source": [
    "f1 = \"3.14\"\n",
    "print( float(f1) )\n",
    "print( type( float(f1) ) )"
   ]
  },
  {
   "cell_type": "code",
   "execution_count": 12,
   "id": "84e01a57",
   "metadata": {},
   "outputs": [],
   "source": [
    "s1 = \"10입니다\"\n",
    "s2 = \"3.14~\"\n",
    "\n",
    "# 에러\n",
    "# int(s1)\n",
    "# float(s2) - 실수 형태 X -> 형변환 불가"
   ]
  },
  {
   "cell_type": "code",
   "execution_count": 17,
   "id": "26053a1d",
   "metadata": {},
   "outputs": [
    {
     "data": {
      "text/plain": [
       "int"
      ]
     },
     "execution_count": 17,
     "metadata": {},
     "output_type": "execute_result"
    }
   ],
   "source": [
    "# 정수 3으로 형변환\n",
    "s3 = \"3.141592\"\n",
    "s3 = int(float(s3))\n",
    "\n",
    "type(s3)"
   ]
  }
 ],
 "metadata": {
  "kernelspec": {
   "display_name": "Python 3 (ipykernel)",
   "language": "python",
   "name": "python3"
  },
  "language_info": {
   "codemirror_mode": {
    "name": "ipython",
    "version": 3
   },
   "file_extension": ".py",
   "mimetype": "text/x-python",
   "name": "python",
   "nbconvert_exporter": "python",
   "pygments_lexer": "ipython3",
   "version": "3.9.7"
  }
 },
 "nbformat": 4,
 "nbformat_minor": 5
}
