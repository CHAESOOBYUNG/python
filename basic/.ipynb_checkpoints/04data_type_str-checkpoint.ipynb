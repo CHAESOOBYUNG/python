{
 "cells": [
  {
   "cell_type": "markdown",
   "id": "ad633688",
   "metadata": {},
   "source": [
    "#### 문자열 타입 string\n",
    "- 문자열을 표기할 때 \"\",\"로 표기합니다"
   ]
  },
  {
   "cell_type": "code",
   "execution_count": 9,
   "id": "7d20ec65",
   "metadata": {},
   "outputs": [
    {
     "data": {
      "text/plain": [
       "\"Let's go!!!!\""
      ]
     },
     "execution_count": 9,
     "metadata": {},
     "output_type": "execute_result"
    }
   ],
   "source": [
    "s1 = \"안녕\"\n",
    "s2 = '안녕'\n",
    "\n",
    "s2\n",
    "# 문자열 안에서 따옴표를 사용하고 싶다면 \\' 를 사용합니다\n",
    "s3 = 'Let\\'s go!!!!';\n",
    "s3\n"
   ]
  },
  {
   "cell_type": "code",
   "execution_count": 15,
   "id": "99d17b41",
   "metadata": {},
   "outputs": [
    {
     "name": "stdout",
     "output_type": "stream",
     "text": [
      "안녕~ \n",
      "내일 봐~\n"
     ]
    }
   ],
   "source": [
    "s4 = '안녕~ \\n내일 봐~'\n",
    "print(s4)\n",
    "\n",
    "#탈출문자 경로를 표현할 때는 \\\\를 붙여서 표현해줍니다.\n",
    "path = \"C:\\temp\\Chae Soobyng\";\n",
    "path = \"C:/temp/user\";\n"
   ]
  },
  {
   "cell_type": "code",
   "execution_count": 2,
   "id": "639c0849",
   "metadata": {},
   "outputs": [
    {
     "data": {
      "text/plain": [
       "'\\n안녕하세요.\\n오늘은 날씨가 덥네요\\n아 좋다 좋아\\n'"
      ]
     },
     "execution_count": 2,
     "metadata": {},
     "output_type": "execute_result"
    }
   ],
   "source": [
    "s5 ='''\n",
    "안녕하세요.\n",
    "오늘은 날씨가 덥네요\n",
    "아 좋다 좋아\n",
    "'''\n",
    "s5"
   ]
  },
  {
   "cell_type": "code",
   "execution_count": 9,
   "id": "e44be054",
   "metadata": {},
   "outputs": [
    {
     "name": "stdout",
     "output_type": "stream",
     "text": [
      "따옴표 하나로 문단 처리하기 \n",
      "따옴표 하나로 문단 처리하기 \n",
      "따옴표 하나로 문단 처리하기 \n",
      "따옴표 하나로 문단 처리하기 \n",
      "따옴표 하나로 문단 처리하기 \n",
      "따옴표 하나로 문단 처리하기 \n",
      "따옴표 하나로 문단 처리하기 따옴표 하나로 문단 처리하기\n"
     ]
    }
   ],
   "source": [
    "# 홑따옴표를 이용해서 여러 문장을 처리할 때는 라인 마지막에 \\ \n",
    "#\\n : 줄바꿈\n",
    "s6 = '따옴표 하나로 문단 처리하기 \\\n",
    "\\n따옴표 하나로 문단 처리하기 \\\n",
    "\\n따옴표 하나로 문단 처리하기 \\\n",
    "\\n따옴표 하나로 문단 처리하기 \\\n",
    "\\n따옴표 하나로 문단 처리하기 \\\n",
    "\\n따옴표 하나로 문단 처리하기 \\\n",
    "\\n따옴표 하나로 문단 처리하기 \\\n",
    "따옴표 하나로 문단 처리하기'\n",
    "\n",
    "print(s6)\n"
   ]
  }
 ],
 "metadata": {
  "kernelspec": {
   "display_name": "Python 3 (ipykernel)",
   "language": "python",
   "name": "python3"
  },
  "language_info": {
   "codemirror_mode": {
    "name": "ipython",
    "version": 3
   },
   "file_extension": ".py",
   "mimetype": "text/x-python",
   "name": "python",
   "nbconvert_exporter": "python",
   "pygments_lexer": "ipython3",
   "version": "3.9.7"
  }
 },
 "nbformat": 4,
 "nbformat_minor": 5
}
