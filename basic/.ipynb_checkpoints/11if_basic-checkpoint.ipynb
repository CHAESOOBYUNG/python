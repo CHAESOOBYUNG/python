{
 "cells": [
  {
   "cell_type": "markdown",
   "id": "69a30ae2",
   "metadata": {},
   "source": [
    "#### if 조건:\n",
    "    들여쓰기"
   ]
  },
  {
   "cell_type": "code",
   "execution_count": 4,
   "id": "14a86916",
   "metadata": {},
   "outputs": [
    {
     "name": "stdout",
     "output_type": "stream",
     "text": [
      "몇살이세요?14\n",
      "무조건 실행되는 문장\n"
     ]
    }
   ],
   "source": [
    "age = int( input('몇살이세요?') )\n",
    "\n",
    "if age > 17 :\n",
    "    print('성인입니다')\n",
    "    print('신분증 검사를 하겠습니다')\n",
    "\n",
    "    \n",
    "print('무조건 실행되는 문장')"
   ]
  },
  {
   "cell_type": "code",
   "execution_count": 6,
   "id": "9bccfd43",
   "metadata": {},
   "outputs": [
    {
     "name": "stdout",
     "output_type": "stream",
     "text": [
      "얼마 있습니까?30000\n",
      "입금하세요\n"
     ]
    }
   ],
   "source": [
    "\n",
    "money = int(input('얼마 있습니까?'))\n",
    "\n",
    "if money >= 20000 :\n",
    "    print(\"입금하세요\")\n",
    "else : \n",
    "    print('치킨 사드세요')\n"
   ]
  },
  {
   "cell_type": "markdown",
   "id": "df12478b",
   "metadata": {},
   "source": [
    "#### elif"
   ]
  },
  {
   "cell_type": "code",
   "execution_count": 19,
   "id": "7e9474fa",
   "metadata": {},
   "outputs": [
    {
     "name": "stdout",
     "output_type": "stream",
     "text": [
      "나이를 입력하세요>5\n",
      "미취학 아동입니다\n"
     ]
    }
   ],
   "source": [
    "age = int(input('나이를 입력하세요>'))\n",
    "\n",
    "if age >= 18 :\n",
    "    print('성인')\n",
    "elif age >= 15 :\n",
    "    print('고등학생')\n",
    "elif age >= 12 :\n",
    "    print('중학생')\n",
    "elif age >= 6 :\n",
    "    print('초등학생') \n",
    "    \n",
    "else :\n",
    "    print('미취학 아동입니다') "
   ]
  },
  {
   "cell_type": "markdown",
   "id": "358610dd",
   "metadata": {},
   "source": [
    "중첩 if"
   ]
  },
  {
   "cell_type": "code",
   "execution_count": 20,
   "id": "6cbacf9c",
   "metadata": {},
   "outputs": [
    {
     "name": "stdout",
     "output_type": "stream",
     "text": [
      "키>182\n",
      "나이>24\n",
      "놀이기구 탑승이 가능합니다\n",
      "--------------------------------------------------\n"
     ]
    }
   ],
   "source": [
    "cm = int( input('키>') )\n",
    "age = int( input('나이>') )\n",
    "\n",
    "if cm >= 140 :\n",
    "    \n",
    "    if age >= 8 :\n",
    "        print('놀이기구 탑승이 가능합니다')\n",
    "    else : \n",
    "        print('나이가 8세 미만입니다')\n",
    "        \n",
    "    print('-' * 50) # 바깥 if문의 실행구문\n",
    "else : \n",
    "    \n",
    "    print('키가 140미만 입니다')\n",
    "    "
   ]
  },
  {
   "cell_type": "markdown",
   "id": "d2abee5b",
   "metadata": {},
   "source": [
    "#### 실습\n",
    "'''\n",
    "1. 국어, 영어, 수학점수를 받아서 평균이 60점 이상이면\n",
    "\"시험에 통과했습니다\" 를 출력하세요\n",
    "평균점수를 소수점 2자리까지 출력하세요. hint: round()\n",
    "\n",
    "2. 평균이 60점 미만이라면 \"재수강 대상입니다\" 를 출력하세요\n",
    "\n",
    "3. 통과/재수강 여부에 상관없이 \"열공합시다\" 를 출력하세요\n",
    "\n",
    "'''"
   ]
  },
  {
   "cell_type": "code",
   "execution_count": 14,
   "id": "6cfd5afc",
   "metadata": {
    "scrolled": true
   },
   "outputs": [
    {
     "name": "stdout",
     "output_type": "stream",
     "text": [
      "국어점수는 몇점입니까?67\n",
      "영어점수는 몇점입니까?66\n",
      "수학점수는 몇점입니까?67\n",
      "66.67\n",
      "시험에 통과했습니다\n",
      "열공합시다\n"
     ]
    }
   ],
   "source": [
    "kor = int(input('국어점수는 몇점입니까?'))\n",
    "eng = int(input('영어점수는 몇점입니까?'))\n",
    "math = int(input('수학점수는 몇점입니까?'))\n",
    "print(round((kor + eng + math) / 3, 2))   \n",
    "if kor >= 60 and eng >= 60 and math >= 60 :\n",
    "    print(\"시험에 통과했습니다\")\n",
    "else :\n",
    "    print(\"재수강 대상입니다\")\n",
    "    \n",
    "print(\"열공합시다\")"
   ]
  },
  {
   "cell_type": "markdown",
   "id": "a4513a18",
   "metadata": {},
   "source": [
    "#### 실습2\n",
    "'''\n",
    "1. 점수(point)를 입력받아 90점 이상이면\n",
    "    - 다시 한번 조건을 검사하여 \n",
    "    - 100점을 초과한 경우 \"점수를 잘못 입력했습니다\" 를 출력.\n",
    "    - 95~100일 때는 \"학점은 A+입니다\" \n",
    "    - 위 두 조건을 만족하지 못하면 \"학점은 A입니다\"\n",
    "\n",
    "2. 다중 분기 조건문을 사용하여 \n",
    "80점대는 B학점\n",
    "70점대는 C학점\n",
    "60점대는 F학점으로 처리하세요\n",
    "\n",
    "'''"
   ]
  },
  {
   "cell_type": "code",
   "execution_count": 28,
   "id": "b35a0d2d",
   "metadata": {},
   "outputs": [
    {
     "name": "stdout",
     "output_type": "stream",
     "text": [
      "점수는 몇점입니까?66\n",
      "학점은 F입니다\n"
     ]
    }
   ],
   "source": [
    "point = int(input(\"점수는 몇점입니까?\"))\n",
    "\n",
    "if point >= 90:\n",
    "    \n",
    "    if point > 100 : \n",
    "        print(\"점수를 잘못 입력했습니다\")\n",
    "    elif point >= 95 :\n",
    "        print(\"학점은 A+입니다\")\n",
    "    else :\n",
    "        print(\"학점은 A입니다\")\n",
    "elif point >= 80 :\n",
    "    print(\"학점은 B입니다\")\n",
    "elif point >= 70 :\n",
    "    print(\"학점은 C입니다\")\n",
    "else :\n",
    "    print(\"학점은 F입니다\")\n",
    "        "
   ]
  }
 ],
 "metadata": {
  "kernelspec": {
   "display_name": "Python 3 (ipykernel)",
   "language": "python",
   "name": "python3"
  },
  "language_info": {
   "codemirror_mode": {
    "name": "ipython",
    "version": 3
   },
   "file_extension": ".py",
   "mimetype": "text/x-python",
   "name": "python",
   "nbconvert_exporter": "python",
   "pygments_lexer": "ipython3",
   "version": "3.9.7"
  }
 },
 "nbformat": 4,
 "nbformat_minor": 5
}
