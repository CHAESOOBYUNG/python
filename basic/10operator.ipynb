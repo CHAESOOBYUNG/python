{
 "cells": [
  {
   "cell_type": "markdown",
   "id": "09a51d6a",
   "metadata": {},
   "source": [
    "#### 연산자\n",
    "- 1.+,-,/(실수몫),//(정수몫),%"
   ]
  },
  {
   "cell_type": "code",
   "execution_count": 3,
   "id": "eaaa4c19",
   "metadata": {},
   "outputs": [
    {
     "name": "stdout",
     "output_type": "stream",
     "text": [
      "2.5\n",
      "2\n",
      "2\n",
      "4\n",
      "8\n",
      "243\n"
     ]
    }
   ],
   "source": [
    "print(10/4) # 실수 몫\n",
    "print(10 // 4) # 정수 몫\n",
    "print(10 % 4) # 나머지\n",
    "print(4 % 7) # 나머지\n",
    "\n",
    "print(2 ** 3) # 2의 3제곱\n",
    "print(3 ** 5) # 3의 5제곱"
   ]
  },
  {
   "cell_type": "markdown",
   "id": "9bf64592",
   "metadata": {},
   "source": [
    "복합대입 연산자 +=, -=, /=, //= ..................."
   ]
  },
  {
   "cell_type": "code",
   "execution_count": 6,
   "id": "9af733fb",
   "metadata": {},
   "outputs": [
    {
     "data": {
      "text/plain": [
       "1"
      ]
     },
     "execution_count": 6,
     "metadata": {},
     "output_type": "execute_result"
    }
   ],
   "source": [
    "a = 5\n",
    "b = 3\n",
    "\n",
    "a += 3 # a = a + 3\n",
    "a\n",
    "\n",
    "a //= 2 # a = a // 2\n",
    "a\n",
    "\n",
    "a %= 3 # a = a % 3\n",
    "a\n",
    "\n",
    "a **= 2 # a = a ** 2\n",
    "a"
   ]
  },
  {
   "cell_type": "code",
   "execution_count": 10,
   "id": "5f4f4c37",
   "metadata": {},
   "outputs": [
    {
     "data": {
      "text/plain": [
       "2"
      ]
     },
     "execution_count": 10,
     "metadata": {},
     "output_type": "execute_result"
    }
   ],
   "source": [
    "a = 1\n",
    "# a++ 문법 없음\n",
    "a += 1\n",
    "a"
   ]
  },
  {
   "cell_type": "markdown",
   "id": "5f5fc6b1",
   "metadata": {},
   "source": [
    "#### 논리 연산자\n",
    "- & | and or not"
   ]
  },
  {
   "cell_type": "code",
   "execution_count": 12,
   "id": "067e6b28",
   "metadata": {},
   "outputs": [
    {
     "name": "stdout",
     "output_type": "stream",
     "text": [
      "True\n",
      "True\n",
      "True\n",
      "True\n",
      "False\n"
     ]
    }
   ],
   "source": [
    "print(True & True)\n",
    "print(True and True)\n",
    "print(True | False)\n",
    "print(True or False)\n",
    "print(not True) # 부정"
   ]
  },
  {
   "cell_type": "code",
   "execution_count": 17,
   "id": "419e1fc3",
   "metadata": {},
   "outputs": [
    {
     "name": "stdout",
     "output_type": "stream",
     "text": [
      "a는 1보다 크고 10보다 작다\n",
      "b는 2또는 10 입니다\n",
      "b는 10 미만입니다\n"
     ]
    }
   ],
   "source": [
    "a = 5\n",
    "\n",
    "if a > 1 and a < 10 :\n",
    "    print('a는 1보다 크고 10보다 작다')\n",
    "    \n",
    "b = 10\n",
    "if b == 2 or b == 10:\n",
    "    print('b는 2또는 10 입니다')\n",
    "    \n",
    "# not은 부정의 의미 T -> F, F -> T\n",
    "if not b < 10 :\n",
    "    print('b는 10 미만입니다')\n"
   ]
  },
  {
   "cell_type": "code",
   "execution_count": 20,
   "id": "3bb90f37",
   "metadata": {},
   "outputs": [
    {
     "name": "stdout",
     "output_type": "stream",
     "text": [
      "1\n"
     ]
    }
   ],
   "source": [
    "# 단축평가 연산\n",
    "# 논리 연산에서 좌항에 전체결과가 나오는 경우, 우측을 진행하지 않음\n",
    "# or, and\n",
    "\n",
    "c = 0\n",
    "# print( c / 0 ) #주석\n",
    "\n",
    "# 뒤를 실행하지 않음\n",
    "if c == 0 or c / 0 == 0 :\n",
    "    print(1)\n",
    "    \n",
    "# if c == 0 | c / 0 == 0 : \n",
    "#     print(1) -> 에러"
   ]
  }
 ],
 "metadata": {
  "kernelspec": {
   "display_name": "Python 3 (ipykernel)",
   "language": "python",
   "name": "python3"
  },
  "language_info": {
   "codemirror_mode": {
    "name": "ipython",
    "version": 3
   },
   "file_extension": ".py",
   "mimetype": "text/x-python",
   "name": "python",
   "nbconvert_exporter": "python",
   "pygments_lexer": "ipython3",
   "version": "3.9.7"
  }
 },
 "nbformat": 4,
 "nbformat_minor": 5
}
