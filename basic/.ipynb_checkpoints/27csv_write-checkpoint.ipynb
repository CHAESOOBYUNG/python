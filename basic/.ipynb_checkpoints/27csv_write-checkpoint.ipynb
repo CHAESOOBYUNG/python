{
 "cells": [
  {
   "cell_type": "markdown",
   "id": "853bd821",
   "metadata": {},
   "source": [
    "#### csv파일 읽고 쓰기\n",
    "- 임포트 csv\n",
    "- write( open객체, 구분자)\n",
    "- reader( open객체, 구분자)"
   ]
  },
  {
   "cell_type": "code",
   "execution_count": 2,
   "id": "f735e702",
   "metadata": {},
   "outputs": [],
   "source": [
    "import csv\n",
    "\n",
    "path = 'dataset/hello.csv'"
   ]
  },
  {
   "cell_type": "code",
   "execution_count": 4,
   "id": "50e0f741",
   "metadata": {},
   "outputs": [],
   "source": [
    "# newline='' 윈도우에서 파일을 쓰는 경우 다음행이 자동으로 줄바꿈이 나타나는 경우에 쓴다.\n",
    "\n",
    "with open(path, 'w', encoding='utf-8-sig', newline='') as f :\n",
    "    data_write = csv.writer(f, delimiter= ',' ) \n",
    "    \n",
    "    data_write.writerow(['a', 'b', 'c', 'd', 'e']) #행별로 쓰기\n",
    "    data_write.writerow(['a', 'b', 'c', 'd', 'e']) #행별로 쓰기"
   ]
  },
  {
   "cell_type": "code",
   "execution_count": null,
   "id": "d7fbe103",
   "metadata": {},
   "outputs": [],
   "source": [
    "\n",
    "[['a','b','c'],['1', '2', '3'],['hong', 'park', 'lee'] ]\n",
    "\n",
    "with open(path, 'w', encoding='utf-8-sig', newline='') as f :\n",
    "    data_write = csv.writer(f, delimiter= ',' ) \n",
    "    \n",
    "    data_write.writerows(data_list) # 한번에 쓰기 "
   ]
  }
 ],
 "metadata": {
  "kernelspec": {
   "display_name": "Python 3 (ipykernel)",
   "language": "python",
   "name": "python3"
  },
  "language_info": {
   "codemirror_mode": {
    "name": "ipython",
    "version": 3
   },
   "file_extension": ".py",
   "mimetype": "text/x-python",
   "name": "python",
   "nbconvert_exporter": "python",
   "pygments_lexer": "ipython3",
   "version": "3.9.7"
  }
 },
 "nbformat": 4,
 "nbformat_minor": 5
}
