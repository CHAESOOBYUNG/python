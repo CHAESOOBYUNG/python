{
 "cells": [
  {
   "cell_type": "markdown",
   "id": "3532d683",
   "metadata": {},
   "source": [
    "#### 표준출력 함수 print()"
   ]
  },
  {
   "cell_type": "code",
   "execution_count": 5,
   "id": "a0b09ab8",
   "metadata": {},
   "outputs": [
    {
     "name": "stdout",
     "output_type": "stream",
     "text": [
      "1234\n",
      "홍길동\n",
      "홍길동 님의 나이는 1234 입니다\n"
     ]
    }
   ],
   "source": [
    "value = 1234\n",
    "name = '홍길동'\n",
    "\n",
    "print(value)\n",
    "print(name)\n",
    "# print(value + name) # 에러 (숫자 + 문자로 출력 불가)\n",
    "\n",
    "# 출력할 데이터가 여러개라면 ,로 연결합니다 \n",
    "print(name, '님의 나이는', 1234, '입니다')"
   ]
  },
  {
   "cell_type": "code",
   "execution_count": 10,
   "id": "12339242",
   "metadata": {},
   "outputs": [
    {
     "name": "stdout",
     "output_type": "stream",
     "text": [
      "개 고양이 돼지\n",
      "개 고양이 돼지\n",
      "개,고양이,돼지\n",
      "개==> 고양이==> 돼지\n",
      "개고양이돼지\n"
     ]
    }
   ],
   "source": [
    "dog = '개'\n",
    "cat = '고양이'\n",
    "pig = '돼지'\n",
    "\n",
    "# 여러변수를 출력시 sep속성으로 구분자를 지정할 수 있다\n",
    "print(dog, cat, pig)\n",
    "print(dog, cat, pig, sep=' ') #default값으로 공백\n",
    "print(dog, cat, pig, sep=',') \n",
    "print(dog, cat, pig, sep='==> ')\n",
    "print(dog, cat, pig, sep='')\n"
   ]
  },
  {
   "cell_type": "code",
   "execution_count": 16,
   "id": "525a1fae",
   "metadata": {},
   "outputs": [
    {
     "name": "stdout",
     "output_type": "stream",
     "text": [
      "개 고양이 돼지\n",
      "개 고양이 돼지\n",
      "결과\n",
      "오늘 오전에 안나온 사람 오후에 나올꺼죠?^^?\n",
      "다음 출력구문은?\n"
     ]
    }
   ],
   "source": [
    "# end속성은 출력 이후 맨 마지막에 포함할 문자를 지정하는 용도이다.\n",
    "print(dog, cat, pig)\n",
    "print(dog, cat, pig, end='\\n') # default \n",
    "print('결과')\n",
    "\n",
    "print('오늘', '오전에', '안나온 사람', '오후에 나올꺼죠?', end='^^?')\n",
    "print('\\n다음 출력구문은?') # \\n : 줄바꿈"
   ]
  },
  {
   "cell_type": "code",
   "execution_count": 18,
   "id": "2793070e",
   "metadata": {},
   "outputs": [
    {
     "name": "stdout",
     "output_type": "stream",
     "text": [
      "안녕?.........집에 가고 싶다.저 먼저 퇴근할게요"
     ]
    }
   ],
   "source": [
    "print('안녕?', '집에 가고 싶다.', end='저 먼저 퇴근할게요', sep='.........')"
   ]
  },
  {
   "cell_type": "code",
   "execution_count": 20,
   "id": "cbb014fc",
   "metadata": {},
   "outputs": [],
   "source": [
    "# end, sep속성은 반드시 print문장 마지막에 작성해야 한다.\n",
    "# print( end='저 먼저 퇴근할게요', sep='.........', '안녕?', '집에 가고 싶다.') - 에러"
   ]
  },
  {
   "cell_type": "code",
   "execution_count": null,
   "id": "b3fa7767",
   "metadata": {},
   "outputs": [],
   "source": []
  }
 ],
 "metadata": {
  "kernelspec": {
   "display_name": "Python 3 (ipykernel)",
   "language": "python",
   "name": "python3"
  },
  "language_info": {
   "codemirror_mode": {
    "name": "ipython",
    "version": 3
   },
   "file_extension": ".py",
   "mimetype": "text/x-python",
   "name": "python",
   "nbconvert_exporter": "python",
   "pygments_lexer": "ipython3",
   "version": "3.9.7"
  }
 },
 "nbformat": 4,
 "nbformat_minor": 5
}
