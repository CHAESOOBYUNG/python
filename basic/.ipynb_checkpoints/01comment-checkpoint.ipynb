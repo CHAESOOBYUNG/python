{
 "cells": [
  {
   "attachments": {},
   "cell_type": "markdown",
   "id": "68fa69b6",
   "metadata": {},
   "source": [
    "# 파이썬 단축키\n",
    "## 파이썬 단축키\n",
    "### 파이썬 단축키\n",
    "#### 파이썬 단축키\n",
    "\n",
    "- 마크다운 문법\n",
    "- 마크다운 분법\n",
    "\n",
    "1. a - 이전에 셀 삽입\n",
    "2. b - 다음에 셀 삽입\n",
    "3. dd - 셀 삭제\n",
    "4. ctrl + enter - 실행\n",
    "5. shift + enter - 실행(다음으로)\n",
    "\n",
    ">예시 \n",
    "<div style=\"color: red;\">html 문법도</div>"
   ]
  },
  {
   "cell_type": "code",
   "execution_count": 8,
   "id": "11b013a7",
   "metadata": {},
   "outputs": [
    {
     "ename": "SyntaxError",
     "evalue": "invalid syntax (Temp/ipykernel_9044/1256929881.py, line 4)",
     "output_type": "error",
     "traceback": [
      "\u001b[1;36m  File \u001b[1;32m\"C:\\Users\\CHAESO~1\\AppData\\Local\\Temp/ipykernel_9044/1256929881.py\"\u001b[1;36m, line \u001b[1;32m4\u001b[0m\n\u001b[1;33m    여러줄 주석으로 사용\u001b[0m\n\u001b[1;37m        ^\u001b[0m\n\u001b[1;31mSyntaxError\u001b[0m\u001b[1;31m:\u001b[0m invalid syntax\n"
     ]
    }
   ],
   "source": [
    "#  한줄주석\n",
    "# ctrl + /\n",
    "'''\n",
    "여러줄 주석으로 사용\n",
    "안녕하세요~\n",
    "'''\n",
    "\n",
    "# print('안녕하세요')\n",
    "1\n",
    "10\n",
    "100\n",
    "\n",
    "print(1)\n",
    "print(1 + 2)\n",
    "print(\"문자 입니다\")\n",
    "#    print('문자 입니다') - 오류(들여쓰기 안됨)\n",
    "# tab버튼으로 자동완성\n",
    "\n"
   ]
  }
 ],
 "metadata": {
  "kernelspec": {
   "display_name": "Python 3 (ipykernel)",
   "language": "python",
   "name": "python3"
  },
  "language_info": {
   "codemirror_mode": {
    "name": "ipython",
    "version": 3
   },
   "file_extension": ".py",
   "mimetype": "text/x-python",
   "name": "python",
   "nbconvert_exporter": "python",
   "pygments_lexer": "ipython3",
   "version": "3.9.7"
  }
 },
 "nbformat": 4,
 "nbformat_minor": 5
}
