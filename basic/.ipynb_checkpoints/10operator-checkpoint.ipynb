{
 "cells": [
  {
   "cell_type": "markdown",
   "id": "10534302",
   "metadata": {},
   "source": [
    "#### 연산자\n",
    "- 1.+,-,/(실수몫),//(정수몫),%"
   ]
  },
  {
   "cell_type": "code",
   "execution_count": 3,
   "id": "951b0b1c",
   "metadata": {},
   "outputs": [
    {
     "name": "stdout",
     "output_type": "stream",
     "text": [
      "2.5\n",
      "2\n",
      "2\n",
      "4\n",
      "8\n",
      "243\n"
     ]
    }
   ],
   "source": [
    "print(10/4) # 실수 몫\n",
    "print(10 // 4) # 정수 몫\n",
    "print(10 % 4) # 나머지\n",
    "print(4 % 7) # 나머지\n",
    "\n",
    "print(2 ** 3) # 2의 3제곱\n",
    "print(3 ** 5) # 3의 5제곱"
   ]
  },
  {
   "cell_type": "markdown",
   "id": "d6187bcc",
   "metadata": {},
   "source": [
    "복합대입 연산자 +=, -=, /=, //= ..................."
   ]
  },
  {
   "cell_type": "code",
   "execution_count": 6,
   "id": "51b866d5",
   "metadata": {},
   "outputs": [
    {
     "data": {
      "text/plain": [
       "1"
      ]
     },
     "execution_count": 6,
     "metadata": {},
     "output_type": "execute_result"
    }
   ],
   "source": [
    "a = 5\n",
    "b = 3\n",
    "\n",
    "a += 3 # a = a + 3\n",
    "a\n",
    "\n",
    "a //= 2 # a = a // 2\n",
    "a\n",
    "\n",
    "a %= 3 # a = a % 3\n",
    "a\n",
    "\n",
    "a **= 2 # a = a ** 2\n",
    "a"
   ]
  },
  {
   "cell_type": "code",
   "execution_count": 10,
   "id": "a39de03a",
   "metadata": {},
   "outputs": [
    {
     "data": {
      "text/plain": [
       "2"
      ]
     },
     "execution_count": 10,
     "metadata": {},
     "output_type": "execute_result"
    }
   ],
   "source": [
    "a = 1\n",
    "# a++ 문법 없음\n",
    "a += 1\n",
    "a"
   ]
  },
  {
   "cell_type": "markdown",
   "id": "bd50277f",
   "metadata": {},
   "source": [
    "#### 논리 연산자\n",
    "- & | and or not"
   ]
  },
  {
   "cell_type": "code",
   "execution_count": 12,
   "id": "8b6ba962",
   "metadata": {},
   "outputs": [
    {
     "name": "stdout",
     "output_type": "stream",
     "text": [
      "True\n",
      "True\n",
      "True\n",
      "True\n",
      "False\n"
     ]
    }
   ],
   "source": [
    "print(True & True)\n",
    "print(True and True)\n",
    "print(True | False)\n",
    "print(True or False)\n",
    "print(not True) # 부정"
   ]
  },
  {
   "cell_type": "code",
   "execution_count": 17,
   "id": "00f19cad",
   "metadata": {},
   "outputs": [
    {
     "name": "stdout",
     "output_type": "stream",
     "text": [
      "a는 1보다 크고 10보다 작다\n",
      "b는 2또는 10 입니다\n",
      "b는 10 미만입니다\n"
     ]
    }
   ],
   "source": [
    "a = 5\n",
    "\n",
    "if a > 1 and a < 10 :\n",
    "    print('a는 1보다 크고 10보다 작다')\n",
    "    \n",
    "b = 10\n",
    "if b == 2 or b == 10:\n",
    "    print('b는 2또는 10 입니다')\n",
    "    \n",
    "# not은 부정의 의미 T -> F, F -> T\n",
    "if not b < 10 :\n",
    "    print('b는 10 미만입니다')\n"
   ]
  },
  {
   "cell_type": "code",
   "execution_count": 19,
   "id": "964281af",
   "metadata": {},
   "outputs": [
    {
     "ename": "ZeroDivisionError",
     "evalue": "division by zero",
     "output_type": "error",
     "traceback": [
      "\u001b[1;31m---------------------------------------------------------------------------\u001b[0m",
      "\u001b[1;31mZeroDivisionError\u001b[0m                         Traceback (most recent call last)",
      "\u001b[1;32mC:\\Users\\CHAESO~1\\AppData\\Local\\Temp/ipykernel_21144/5770079.py\u001b[0m in \u001b[0;36m<module>\u001b[1;34m\u001b[0m\n\u001b[0;32m      4\u001b[0m \u001b[1;33m\u001b[0m\u001b[0m\n\u001b[0;32m      5\u001b[0m \u001b[1;31m# 뒤를 실행하지 않음\u001b[0m\u001b[1;33m\u001b[0m\u001b[1;33m\u001b[0m\u001b[0m\n\u001b[1;32m----> 6\u001b[1;33m \u001b[1;32mif\u001b[0m \u001b[0mc\u001b[0m \u001b[1;33m==\u001b[0m \u001b[1;36m0\u001b[0m \u001b[1;33m|\u001b[0m \u001b[0mc\u001b[0m \u001b[1;33m/\u001b[0m \u001b[1;36m0\u001b[0m \u001b[1;33m==\u001b[0m \u001b[1;36m0\u001b[0m \u001b[1;33m:\u001b[0m\u001b[1;33m\u001b[0m\u001b[1;33m\u001b[0m\u001b[0m\n\u001b[0m\u001b[0;32m      7\u001b[0m     \u001b[0mprint\u001b[0m\u001b[1;33m(\u001b[0m\u001b[1;36m1\u001b[0m\u001b[1;33m)\u001b[0m\u001b[1;33m\u001b[0m\u001b[1;33m\u001b[0m\u001b[0m\n",
      "\u001b[1;31mZeroDivisionError\u001b[0m: division by zero"
     ]
    }
   ],
   "source": [
    "# 단축평가 연산\n",
    "# 논리 연산에서 좌항에 전체결과가 나오는 경우, 우측을 진행하지 않음\n",
    "# or, and\n",
    "\n",
    "c = 0\n",
    "# print( c / 0 ) #주석\n",
    "\n",
    "# 뒤를 실행하지 않음\n",
    "if c == 0 or c / 0 == 0 :\n",
    "    print(1)\n",
    "    \n",
    "# if c == 0 | c / 0 == 0 : \n",
    "#     print(1) -> 에러"
   ]
  }
 ],
 "metadata": {
  "kernelspec": {
   "display_name": "Python 3 (ipykernel)",
   "language": "python",
   "name": "python3"
  },
  "language_info": {
   "codemirror_mode": {
    "name": "ipython",
    "version": 3
   },
   "file_extension": ".py",
   "mimetype": "text/x-python",
   "name": "python",
   "nbconvert_exporter": "python",
   "pygments_lexer": "ipython3",
   "version": "3.9.7"
  }
 },
 "nbformat": 4,
 "nbformat_minor": 5
}
