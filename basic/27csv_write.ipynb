{
 "cells": [
  {
   "cell_type": "markdown",
   "id": "6c98933e",
   "metadata": {},
   "source": [
    "#### csv파일 읽고 쓰기\n",
    "- 임포트 csv\n",
    "- write( open객체, 구분자)\n",
    "- reader( open객체, 구분자)"
   ]
  },
  {
   "cell_type": "code",
   "execution_count": 2,
   "id": "36e18e87",
   "metadata": {},
   "outputs": [],
   "source": [
    "import csv\n",
    "\n",
    "path = 'dataset/hello.csv'"
   ]
  },
  {
   "cell_type": "code",
   "execution_count": 4,
   "id": "3b8c62e4",
   "metadata": {},
   "outputs": [],
   "source": [
    "# newline='' 윈도우에서 파일을 쓰는 경우 다음행이 자동으로 줄바꿈이 나타나는 경우에 쓴다.\n",
    "\n",
    "with open(path, 'w', encoding='utf-8-sig', newline='') as f :\n",
    "    data_write = csv.writer(f, delimiter= ',' ) \n",
    "    \n",
    "    data_write.writerow(['a', 'b', 'c', 'd', 'e']) #행별로 쓰기\n",
    "    data_write.writerow(['a', 'b', 'c', 'd', 'e']) #행별로 쓰기"
   ]
  },
  {
   "cell_type": "code",
   "execution_count": 6,
   "id": "b87c78bb",
   "metadata": {},
   "outputs": [],
   "source": [
    "\n",
    "data_list = [['a','b','c'],['1', '2', '3'],['hong', 'park', 'lee'] ]\n",
    "\n",
    "with open(path, 'w', encoding='utf-8-sig', newline='') as f :\n",
    "    data_write = csv.writer(f, delimiter= ',' ) \n",
    "    \n",
    "    data_write.writerows(data_list) # 한번에 쓰기 "
   ]
  },
  {
   "cell_type": "code",
   "execution_count": 8,
   "id": "9ffc77b9",
   "metadata": {},
   "outputs": [
    {
     "name": "stdout",
     "output_type": "stream",
     "text": [
      "['a', 'b', 'c']\n",
      "['1', '2', '3']\n",
      "['hong', 'park', 'lee']\n"
     ]
    }
   ],
   "source": [
    "# csv 파일 읽기\n",
    "\n",
    "with open(path, 'r', encoding='utf-8-sig', newline='') as f :\n",
    "    data_read = csv.reader(f, delimiter=',')\n",
    "    \n",
    "    for i in data_read :\n",
    "        print(i) \n",
    "    "
   ]
  }
 ],
 "metadata": {
  "kernelspec": {
   "display_name": "Python 3 (ipykernel)",
   "language": "python",
   "name": "python3"
  },
  "language_info": {
   "codemirror_mode": {
    "name": "ipython",
    "version": 3
   },
   "file_extension": ".py",
   "mimetype": "text/x-python",
   "name": "python",
   "nbconvert_exporter": "python",
   "pygments_lexer": "ipython3",
   "version": "3.9.7"
  }
 },
 "nbformat": 4,
 "nbformat_minor": 5
}
