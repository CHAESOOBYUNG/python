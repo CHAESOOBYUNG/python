{
 "cells": [
  {
   "cell_type": "markdown",
   "id": "100a2baf",
   "metadata": {},
   "source": [
    "#### 셀레니움 - 웹 자동화를 위한 모듈\n",
    "- 브라우저를 켜거나, 이동하거나, 클릭하는(이벤트)를 실행할 수 있음"
   ]
  },
  {
   "cell_type": "code",
   "execution_count": 1,
   "id": "8eba2ae7",
   "metadata": {},
   "outputs": [
    {
     "name": "stdout",
     "output_type": "stream",
     "text": [
      "Collecting selenium\n",
      "  Downloading selenium-4.1.3-py3-none-any.whl (968 kB)\n",
      "Collecting trio~=0.17\n",
      "  Downloading trio-0.20.0-py3-none-any.whl (359 kB)\n",
      "Requirement already satisfied: urllib3[secure,socks]~=1.26 in c:\\users\\chae soobyung\\anaconda3\\lib\\site-packages (from selenium) (1.26.7)\n",
      "Collecting trio-websocket~=0.9\n",
      "  Downloading trio_websocket-0.9.2-py3-none-any.whl (16 kB)\n",
      "Requirement already satisfied: sortedcontainers in c:\\users\\chae soobyung\\anaconda3\\lib\\site-packages (from trio~=0.17->selenium) (2.4.0)\n",
      "Requirement already satisfied: cffi>=1.14 in c:\\users\\chae soobyung\\anaconda3\\lib\\site-packages (from trio~=0.17->selenium) (1.14.6)\n",
      "Collecting outcome\n",
      "  Downloading outcome-1.1.0-py2.py3-none-any.whl (9.7 kB)\n",
      "Requirement already satisfied: attrs>=19.2.0 in c:\\users\\chae soobyung\\anaconda3\\lib\\site-packages (from trio~=0.17->selenium) (21.2.0)\n",
      "Requirement already satisfied: idna in c:\\users\\chae soobyung\\anaconda3\\lib\\site-packages (from trio~=0.17->selenium) (3.2)\n",
      "Requirement already satisfied: sniffio in c:\\users\\chae soobyung\\anaconda3\\lib\\site-packages (from trio~=0.17->selenium) (1.2.0)\n",
      "Requirement already satisfied: async-generator>=1.9 in c:\\users\\chae soobyung\\anaconda3\\lib\\site-packages (from trio~=0.17->selenium) (1.10)\n",
      "Requirement already satisfied: pycparser in c:\\users\\chae soobyung\\anaconda3\\lib\\site-packages (from cffi>=1.14->trio~=0.17->selenium) (2.20)\n",
      "Collecting wsproto>=0.14\n",
      "  Downloading wsproto-1.1.0-py3-none-any.whl (24 kB)\n",
      "Requirement already satisfied: pyOpenSSL>=0.14 in c:\\users\\chae soobyung\\anaconda3\\lib\\site-packages (from urllib3[secure,socks]~=1.26->selenium) (21.0.0)\n",
      "Requirement already satisfied: cryptography>=1.3.4 in c:\\users\\chae soobyung\\anaconda3\\lib\\site-packages (from urllib3[secure,socks]~=1.26->selenium) (3.4.8)\n",
      "Requirement already satisfied: certifi in c:\\users\\chae soobyung\\anaconda3\\lib\\site-packages (from urllib3[secure,socks]~=1.26->selenium) (2021.10.8)\n",
      "Requirement already satisfied: PySocks!=1.5.7,<2.0,>=1.5.6 in c:\\users\\chae soobyung\\anaconda3\\lib\\site-packages (from urllib3[secure,socks]~=1.26->selenium) (1.7.1)\n",
      "Requirement already satisfied: six>=1.5.2 in c:\\users\\chae soobyung\\anaconda3\\lib\\site-packages (from pyOpenSSL>=0.14->urllib3[secure,socks]~=1.26->selenium) (1.16.0)\n",
      "Collecting h11<1,>=0.9.0\n",
      "  Downloading h11-0.13.0-py3-none-any.whl (58 kB)\n",
      "Installing collected packages: outcome, h11, wsproto, trio, trio-websocket, selenium\n",
      "Successfully installed h11-0.13.0 outcome-1.1.0 selenium-4.1.3 trio-0.20.0 trio-websocket-0.9.2 wsproto-1.1.0\n"
     ]
    }
   ],
   "source": [
    "# !pip install selenium"
   ]
  },
  {
   "cell_type": "code",
   "execution_count": 3,
   "id": "8500c717",
   "metadata": {},
   "outputs": [],
   "source": [
    "from selenium import webdriver\n",
    "import time"
   ]
  },
  {
   "cell_type": "code",
   "execution_count": 15,
   "id": "8bc269f3",
   "metadata": {},
   "outputs": [
    {
     "name": "stderr",
     "output_type": "stream",
     "text": [
      "C:\\Users\\CHAESO~1\\AppData\\Local\\Temp/ipykernel_6444/918490646.py:2: DeprecationWarning: executable_path has been deprecated, please pass in a Service object\n",
      "  driver = webdriver.Chrome('chromedriver.exe')\n",
      "C:\\Users\\CHAESO~1\\AppData\\Local\\Temp/ipykernel_6444/918490646.py:10: DeprecationWarning: find_element_by_xpath is deprecated. Please use find_element(by=By.XPATH, value=xpath) instead\n",
      "  login_btn = driver.find_element_by_xpath('//*[@id=\"account\"]/a')\n",
      "C:\\Users\\CHAESO~1\\AppData\\Local\\Temp/ipykernel_6444/918490646.py:16: DeprecationWarning: find_element_by_xpath is deprecated. Please use find_element(by=By.XPATH, value=xpath) instead\n",
      "  id_input = driver.find_element_by_xpath('//*[@id=\"id\"]')\n",
      "C:\\Users\\CHAESO~1\\AppData\\Local\\Temp/ipykernel_6444/918490646.py:21: DeprecationWarning: find_element_by_xpath is deprecated. Please use find_element(by=By.XPATH, value=xpath) instead\n",
      "  pw_input = driver.find_element_by_xpath('//*[@id=\"pw\"]')\n",
      "C:\\Users\\CHAESO~1\\AppData\\Local\\Temp/ipykernel_6444/918490646.py:27: DeprecationWarning: find_element_by_xpath is deprecated. Please use find_element(by=By.XPATH, value=xpath) instead\n",
      "  driver.find_element_by_xpath('//*[@id=\"log.login\"]').click()\n"
     ]
    }
   ],
   "source": [
    "# 다운로드 받은 크롬 물리드라이버 가동명령 (경로) \n",
    "driver = webdriver.Chrome('chromedriver.exe') \n",
    "\n",
    "# 웹페이지 이동명령\n",
    "driver.get('https://www.naver.com') \n",
    "time.sleep(1) \n",
    "\n",
    "#('')안에 키값을 넣는 법 F12 클릭 -> 개발자 도구 -> 우클릭 -> Copy -> Copy XPath\n",
    "\n",
    "# xpath란 화면에서 고유하게 표기하는 id입니다\n",
    "# 자동으로 버튼이나 링크 클릭을 제어하는 방법\n",
    "login_btn = driver.find_element_by_xpath('//*[@id=\"account\"]/a') \n",
    "login_btn.click()\n",
    "\n",
    "time.sleep(1) \n",
    "\n",
    "# 자동으로 텍스트 입력하기\n",
    "id_input = driver.find_element_by_xpath('//*[@id=\"id\"]') \n",
    "id_input.send_keys('gensung99') # 아이디\n",
    "\n",
    "time.sleep(1)\n",
    "\n",
    "pw_input = driver.find_element_by_xpath('//*[@id=\"pw\"]') \n",
    "pw_input.send_keys('~~~~~~~') # 비밀번호\n",
    "\n",
    "time.sleep(1) \n",
    "\n",
    "# 로그인버튼 클릭\n",
    "driver.find_element_by_xpath('//*[@id=\"log.login\"]').click() \n",
    "\n",
    "# 뒤로가기\n",
    "driver.back() "
   ]
  },
  {
   "cell_type": "markdown",
   "id": "6d6b7305",
   "metadata": {},
   "source": [
    "#### 실습\n",
    "1. 네이버에 접속해서 검색창에 '오늘 날씨'를 입력하세요.\n",
    "2. 검색 후 첫번째로 나오는 네이버 뉴스기사를 띄워주세요."
   ]
  },
  {
   "cell_type": "code",
   "execution_count": 19,
   "id": "de3fb1cb",
   "metadata": {},
   "outputs": [
    {
     "name": "stderr",
     "output_type": "stream",
     "text": [
      "C:\\Users\\CHAESO~1\\AppData\\Local\\Temp/ipykernel_6444/3025558398.py:1: DeprecationWarning: executable_path has been deprecated, please pass in a Service object\n",
      "  driver = webdriver.Chrome('chromedriver.exe')\n",
      "C:\\Users\\CHAESO~1\\AppData\\Local\\Temp/ipykernel_6444/3025558398.py:5: DeprecationWarning: find_element_by_xpath is deprecated. Please use find_element(by=By.XPATH, value=xpath) instead\n",
      "  search_box = driver.find_element_by_xpath('//*[@id=\"query\"]').send_keys('오늘 날씨')\n",
      "C:\\Users\\CHAESO~1\\AppData\\Local\\Temp/ipykernel_6444/3025558398.py:8: DeprecationWarning: find_element_by_xpath is deprecated. Please use find_element(by=By.XPATH, value=xpath) instead\n",
      "  search_btn = driver.find_element_by_xpath('//*[@id=\"search_btn\"]').click()\n",
      "C:\\Users\\CHAESO~1\\AppData\\Local\\Temp/ipykernel_6444/3025558398.py:11: DeprecationWarning: find_element_by_xpath is deprecated. Please use find_element(by=By.XPATH, value=xpath) instead\n",
      "  news_btn = driver.find_element_by_xpath('//*[@id=\"sp_nws_all1\"]/div[1]/div/div[1]/div[2]/a[2]').click()\n"
     ]
    }
   ],
   "source": [
    "driver = webdriver.Chrome('chromedriver.exe')\n",
    "driver.get('https://www.naver.com') \n",
    "time.sleep(1) \n",
    "\n",
    "search_box = driver.find_element_by_xpath('//*[@id=\"query\"]').send_keys('오늘 날씨') \n",
    "time.sleep(1) \n",
    "\n",
    "search_btn = driver.find_element_by_xpath('//*[@id=\"search_btn\"]').click() \n",
    "time.sleep(1)\n",
    " \n",
    "news_btn = driver.find_element_by_xpath('//*[@id=\"sp_nws_all1\"]/div[1]/div/div[1]/div[2]/a[2]').click()  \n",
    "time.sleep(1) "
   ]
  }
 ],
 "metadata": {
  "kernelspec": {
   "display_name": "Python 3 (ipykernel)",
   "language": "python",
   "name": "python3"
  },
  "language_info": {
   "codemirror_mode": {
    "name": "ipython",
    "version": 3
   },
   "file_extension": ".py",
   "mimetype": "text/x-python",
   "name": "python",
   "nbconvert_exporter": "python",
   "pygments_lexer": "ipython3",
   "version": "3.9.7"
  }
 },
 "nbformat": 4,
 "nbformat_minor": 5
}
