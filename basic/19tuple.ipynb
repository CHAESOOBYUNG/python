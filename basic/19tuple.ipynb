{
 "cells": [
  {
   "cell_type": "markdown",
   "id": "59d7a4ff",
   "metadata": {},
   "source": [
    "#### 튜플\n",
    "1. 튜플은 집합이라는 의미에서 리스트와 유사합니다\n",
    "3. 하지만 값을 바꿀 수 없습니다 (불변 리스트)"
   ]
  },
  {
   "cell_type": "code",
   "execution_count": 3,
   "id": "75e48a9b",
   "metadata": {},
   "outputs": [
    {
     "name": "stdout",
     "output_type": "stream",
     "text": [
      "2 1\n"
     ]
    }
   ],
   "source": [
    "point = (1,2,3,4,5)\n",
    "type(point)\n",
    "\n",
    "point = 1,2,3,4,5 # 소괈호 생략가능\n",
    "type(point)\n",
    "\n",
    "x = 1\n",
    "y = 2\n",
    "x, y = y, x # 변수 = 튜플 (튜플의 언패킹) \n",
    "print(x, y)\n"
   ]
  },
  {
   "cell_type": "markdown",
   "id": "61f8af18",
   "metadata": {},
   "source": [
    "#### 튜플도 인덱싱과 슬라이싱이 된다"
   ]
  },
  {
   "cell_type": "code",
   "execution_count": 6,
   "id": "f44f111e",
   "metadata": {},
   "outputs": [
    {
     "name": "stdout",
     "output_type": "stream",
     "text": [
      "(1, 2, 3, 4, 5)\n"
     ]
    },
    {
     "data": {
      "text/plain": [
       "(1, 3, 5)"
      ]
     },
     "execution_count": 6,
     "metadata": {},
     "output_type": "execute_result"
    }
   ],
   "source": [
    "print(point) \n",
    "\n",
    "point[0]\n",
    "point[1]\n",
    "\n",
    "point[:] # 슬라이싱\n",
    "point[1:] \n",
    "point[:3]\n",
    "point[::2] # 처음~끝, 2번째마다"
   ]
  },
  {
   "cell_type": "code",
   "execution_count": null,
   "id": "124503c0",
   "metadata": {},
   "outputs": [],
   "source": [
    "# 튜플에서 불가능한 문법\n",
    "# 값을 변경하는 행위는 모두 안된다\n",
    "\n",
    "# point[0] = 100\n",
    "# point.append(100)\n",
    "# del point[0] \n"
   ]
  },
  {
   "cell_type": "markdown",
   "id": "6367e530",
   "metadata": {},
   "source": [
    "#### max, min, len, index, count 함수들은 사용이 가능하다"
   ]
  },
  {
   "cell_type": "code",
   "execution_count": 7,
   "id": "e4b98f53",
   "metadata": {},
   "outputs": [
    {
     "data": {
      "text/plain": [
       "4"
      ]
     },
     "execution_count": 7,
     "metadata": {},
     "output_type": "execute_result"
    }
   ],
   "source": [
    "point.index(5) # 5의 위치"
   ]
  },
  {
   "cell_type": "code",
   "execution_count": 8,
   "id": "ed8c0feb",
   "metadata": {},
   "outputs": [
    {
     "data": {
      "text/plain": [
       "1"
      ]
     },
     "execution_count": 8,
     "metadata": {},
     "output_type": "execute_result"
    }
   ],
   "source": [
    "point.count(5) # 5의 개수"
   ]
  },
  {
   "cell_type": "code",
   "execution_count": 9,
   "id": "54e75506",
   "metadata": {},
   "outputs": [
    {
     "data": {
      "text/plain": [
       "5"
      ]
     },
     "execution_count": 9,
     "metadata": {},
     "output_type": "execute_result"
    }
   ],
   "source": [
    "len(point) # 튜플의 길이"
   ]
  },
  {
   "cell_type": "code",
   "execution_count": 10,
   "id": "af32deb1",
   "metadata": {},
   "outputs": [
    {
     "data": {
      "text/plain": [
       "5"
      ]
     },
     "execution_count": 10,
     "metadata": {},
     "output_type": "execute_result"
    }
   ],
   "source": [
    "max(point) # 큰값"
   ]
  },
  {
   "cell_type": "code",
   "execution_count": 11,
   "id": "6a3f215c",
   "metadata": {},
   "outputs": [
    {
     "data": {
      "text/plain": [
       "1"
      ]
     },
     "execution_count": 11,
     "metadata": {},
     "output_type": "execute_result"
    }
   ],
   "source": [
    "min(point) # 작은 값"
   ]
  },
  {
   "cell_type": "markdown",
   "id": "50026dd1",
   "metadata": {},
   "source": [
    "#### 튜플과 리스트는 상호 형변환이 가능하다\n",
    "\n",
    "1. list()\n",
    "2. tuple()"
   ]
  },
  {
   "cell_type": "code",
   "execution_count": 14,
   "id": "ebb33433",
   "metadata": {},
   "outputs": [
    {
     "data": {
      "text/plain": [
       "[1, 2, 3, 4, 5, 6, 7, 8, 9, 10]"
      ]
     },
     "execution_count": 14,
     "metadata": {},
     "output_type": "execute_result"
    }
   ],
   "source": [
    "arr = [1,2,3,4,5,6,7,8,9,10]\n",
    "\n",
    "arr = tuple(arr) # 리스트 -> 튜플\n",
    "\n",
    "list(arr) # 튜플 -> 리스트"
   ]
  },
  {
   "cell_type": "code",
   "execution_count": 15,
   "id": "0d89ba04",
   "metadata": {},
   "outputs": [
    {
     "data": {
      "text/plain": [
       "(1, 2, 3, 4, 5, 6, 7, 8, 9)"
      ]
     },
     "execution_count": 15,
     "metadata": {},
     "output_type": "execute_result"
    }
   ],
   "source": [
    "tuple(range(1,10)) "
   ]
  }
 ],
 "metadata": {
  "kernelspec": {
   "display_name": "Python 3 (ipykernel)",
   "language": "python",
   "name": "python3"
  },
  "language_info": {
   "codemirror_mode": {
    "name": "ipython",
    "version": 3
   },
   "file_extension": ".py",
   "mimetype": "text/x-python",
   "name": "python",
   "nbconvert_exporter": "python",
   "pygments_lexer": "ipython3",
   "version": "3.9.7"
  }
 },
 "nbformat": 4,
 "nbformat_minor": 5
}
