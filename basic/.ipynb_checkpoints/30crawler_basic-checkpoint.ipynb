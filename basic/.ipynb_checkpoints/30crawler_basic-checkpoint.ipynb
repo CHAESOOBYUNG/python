{
 "cells": [
  {
   "cell_type": "markdown",
   "id": "c065a8c5",
   "metadata": {},
   "source": [
    "#### 뷰티풀숩\n",
    "1. find() - 단일선택자로 태그를 취득\n",
    "2. find_all() - 모든 태그를 리스트 형태로 취득\n",
    "3. select() - 선택자를 이용해서 태그를 취득"
   ]
  },
  {
   "cell_type": "code",
   "execution_count": 2,
   "id": "100359bd",
   "metadata": {},
   "outputs": [],
   "source": [
    "from selenium import webdriver\n",
    "import time\n",
    "from bs4 import BeautifulSoup"
   ]
  },
  {
   "cell_type": "code",
   "execution_count": 3,
   "id": "74a00bbe",
   "metadata": {},
   "outputs": [
    {
     "name": "stderr",
     "output_type": "stream",
     "text": [
      "C:\\Users\\CHAESO~1\\AppData\\Local\\Temp/ipykernel_14552/742004640.py:1: DeprecationWarning: executable_path has been deprecated, please pass in a Service object\n",
      "  driver = webdriver.Chrome('chromedriver.exe')\n",
      "C:\\Users\\CHAESO~1\\AppData\\Local\\Temp/ipykernel_14552/742004640.py:7: DeprecationWarning: find_element_by_xpath is deprecated. Please use find_element(by=By.XPATH, value=xpath) instead\n",
      "  driver.find_element_by_xpath('//*[@id=\"re_mallmenu\"]/ul/li[3]/div/a/img').click()\n"
     ]
    },
    {
     "name": "stdout",
     "output_type": "stream",
     "text": [
      "[초판 한정 양장본+김영하의 책 읽는 시간 특별판 에피소드 책갈피(초판 삽지)\n",
      "\n",
      " + 김영하 북클럽 독서기록장 (소설/시 2만원 이상)]\n",
      "작별인사  \n",
      "김영하 (지은이) | 복복서가 | 2022년 5월\n",
      "14,000원 → 12,600원 (10%할인),  마일리지 700원 (5% 적립)\n",
      " (13) | 세일즈포인트 : 174,820\n"
     ]
    }
   ],
   "source": [
    "driver = webdriver.Chrome('chromedriver.exe')\n",
    "driver.get('https://www.aladin.co.kr/home/welcome.aspx') \n",
    "\n",
    "time.sleep(1) \n",
    "\n",
    "# 베스트 셀러탭 클릭\n",
    "driver.find_element_by_xpath('//*[@id=\"re_mallmenu\"]/ul/li[3]/div/a/img').click() \n",
    "\n",
    "# selenium으로 전체 페이지 소스코드를 가져오기\n",
    "src = driver.page_source\n",
    "\n",
    "# src문자열 데이터를 html형태로 패싱\n",
    "soup = BeautifulSoup(src, 'html') \n",
    "\n",
    "# div를 가져오는데, class 속성이 ss_book_box\n",
    "# 리스트로 반환\n",
    "div_list = soup.find_all('div', {'class' : 'ss_book_box'}) \n",
    "\n",
    "# print( div_list )\n",
    "# print( div_list[0] ) # 리스트 중 첫번째\n",
    "\n",
    "first_book = div_list[0].find_all('li') # 첫번째 중 제목 ~ 작성자 부분\n",
    "\n",
    "# for i in first_book :\n",
    "#     # print(i) # li\n",
    "#     print(i.text) # li태그안에 text로 표기된 데이터만 추출\n",
    "\n",
    "print( first_book[0].text )\n",
    "print( first_book[1].text )\n",
    "print( first_book[2].text )\n",
    "print( first_book[3].text )\n",
    "print( first_book[4].text ) "
   ]
  }
 ],
 "metadata": {
  "kernelspec": {
   "display_name": "Python 3 (ipykernel)",
   "language": "python",
   "name": "python3"
  },
  "language_info": {
   "codemirror_mode": {
    "name": "ipython",
    "version": 3
   },
   "file_extension": ".py",
   "mimetype": "text/x-python",
   "name": "python",
   "nbconvert_exporter": "python",
   "pygments_lexer": "ipython3",
   "version": "3.9.7"
  }
 },
 "nbformat": 4,
 "nbformat_minor": 5
}
