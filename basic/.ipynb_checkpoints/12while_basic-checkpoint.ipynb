{
 "cells": [
  {
   "cell_type": "markdown",
   "id": "8f0140f8",
   "metadata": {},
   "source": [
    "#### while 조건:\n",
    "    들여쓰기"
   ]
  },
  {
   "cell_type": "code",
   "execution_count": 2,
   "id": "4e982048",
   "metadata": {},
   "outputs": [
    {
     "name": "stdout",
     "output_type": "stream",
     "text": [
      "1\n",
      "2\n",
      "3\n",
      "4\n",
      "5\n",
      "6\n",
      "7\n",
      "8\n",
      "9\n",
      "10\n",
      "1~10까지 합: 55\n"
     ]
    }
   ],
   "source": [
    "n = 1 \n",
    "sum = 0 # 누적할 변수\n",
    "\n",
    "while n <= 10 :\n",
    "    \n",
    "    print(n)\n",
    "    sum += n\n",
    "    \n",
    "    n+=1\n",
    "    \n",
    "print('1~10까지 합:', sum)"
   ]
  },
  {
   "cell_type": "code",
   "execution_count": 15,
   "id": "7565b065",
   "metadata": {},
   "outputs": [
    {
     "name": "stdout",
     "output_type": "stream",
     "text": [
      "50~100의 합: 3825\n"
     ]
    }
   ],
   "source": [
    "# 50~100까지 합\n",
    "\n",
    "a = 50\n",
    "sum = 0\n",
    "while a <= 100 :\n",
    "    sum += a\n",
    "    a+=1\n",
    "    \n",
    "print('50~100의 합:', sum)"
   ]
  },
  {
   "cell_type": "code",
   "execution_count": 10,
   "id": "961c799c",
   "metadata": {},
   "outputs": [
    {
     "name": "stdout",
     "output_type": "stream",
     "text": [
      "2  4  6  8  10  12  14  16  18  20  22  24  26  28  30  32  34  36  38  40  42  44  46  48  50  52  54  56  58  60  62  64  66  68  70  72  74  76  78  80  82  84  86  88  90  92  94  96  98  100  "
     ]
    }
   ],
   "source": [
    "b = 1\n",
    "while b <= 100 :\n",
    "    \n",
    "    if b % 2 == 0:\n",
    "        print(b, ' ', end='')\n",
    "        \n",
    "    b+=1"
   ]
  },
  {
   "cell_type": "markdown",
   "id": "32d5097e",
   "metadata": {},
   "source": [
    "#### 실습1\n",
    "'''\n",
    "* 구구단 n단 출력하기\n",
    "1. 사용자에게 구구단 수를 입력받습니다.\n",
    "2. while문을 사용해서 n단을 단순히 출력\n",
    "\n",
    "ex)구구단 수> 4\n",
    "\n",
    "4 x 1 = 4\n",
    "4 x 2 = 8\n",
    "4 x 3 = 12\n",
    ".\n",
    ".\n",
    "4 x 9 = 36\n",
    "'''"
   ]
  },
  {
   "cell_type": "code",
   "execution_count": 25,
   "id": "889dca92",
   "metadata": {},
   "outputs": [
    {
     "name": "stdout",
     "output_type": "stream",
     "text": [
      "단수>4\n",
      "4 x 1 = 4\n",
      "4 x 2 = 8\n",
      "4 x 3 = 12\n",
      "4 x 4 = 16\n",
      "4 x 5 = 20\n",
      "4 x 6 = 24\n",
      "4 x 7 = 28\n",
      "4 x 8 = 32\n",
      "4 x 9 = 36\n"
     ]
    }
   ],
   "source": [
    "dan = int(input('단수>'))\n",
    "n = 1\n",
    "while n <= 9 :\n",
    "    \n",
    "    print(f'{dan} x {n} = {dan*n}')\n",
    "    n+=1"
   ]
  },
  {
   "cell_type": "markdown",
   "id": "65cc4524",
   "metadata": {},
   "source": [
    "#### 실습2\n",
    "'''\n",
    "while연습\n",
    "- 정수를 2개 입력받아서 x부터 y값 까지\n",
    "누적합을 구하는 코드를 while문을 사용해서 작성.\n",
    "\n",
    "- 우선 처음는 x값이 무조건 작은 값이 들어올 것이다\n",
    "이렇게 가정하고 코드를 작성하면 됩니다.\n",
    "\n",
    "'''"
   ]
  },
  {
   "cell_type": "code",
   "execution_count": 19,
   "id": "4e142d42",
   "metadata": {},
   "outputs": [
    {
     "name": "stdout",
     "output_type": "stream",
     "text": [
      "x>100\n",
      "y>50\n",
      "합: 3825\n"
     ]
    }
   ],
   "source": [
    "x = int(input('x>'))\n",
    "y = int(input('y>'))\n",
    "\n",
    "if x > y :\n",
    "#     temp = x\n",
    "#     x = y \n",
    "#     y = temp\n",
    "    x, y = y, x\n",
    "\n",
    "sum = 0;\n",
    "while x <= y :\n",
    "    \n",
    "    sum += x\n",
    "    \n",
    "    x+=1\n",
    "    \n",
    "print('합:', sum)\n",
    "    "
   ]
  }
 ],
 "metadata": {
  "kernelspec": {
   "display_name": "Python 3 (ipykernel)",
   "language": "python",
   "name": "python3"
  },
  "language_info": {
   "codemirror_mode": {
    "name": "ipython",
    "version": 3
   },
   "file_extension": ".py",
   "mimetype": "text/x-python",
   "name": "python",
   "nbconvert_exporter": "python",
   "pygments_lexer": "ipython3",
   "version": "3.9.7"
  }
 },
 "nbformat": 4,
 "nbformat_minor": 5
}
