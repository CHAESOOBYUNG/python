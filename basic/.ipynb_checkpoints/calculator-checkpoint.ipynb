{
 "cells": [
  {
   "cell_type": "code",
   "execution_count": 5,
   "id": "b1123b7e",
   "metadata": {},
   "outputs": [
    {
     "name": "stdout",
     "output_type": "stream",
     "text": [
      "다른 파일에서 사용할 때 모듈명: __main__\n",
      "음 잘된다~\n"
     ]
    }
   ],
   "source": [
    "def calc_sum(end) :\n",
    "    sum = 0\n",
    "    for i in range(0, end+1) :\n",
    "        sum += i\n",
    "        \n",
    "    return sum\n",
    "\n",
    "def add(n1, n2) :\n",
    "    return n1 + n2\n",
    "\n",
    "def info() :\n",
    "    print('모듈 임포트 연습시간')\n",
    "    \n",
    "inch = 2,5\n",
    "PI = 3.14 \n",
    "\n",
    "''' \n",
    "1. 모듈로 만든 파일을 테스트 코드로 확인하는 방법\n",
    "\n",
    "__name__에는 실행중인 모듈의 이름이 저장된다.\n",
    "\n",
    "현재파일에서 모듈을 실행할 때는 __name__에 \"__main__\"이 저장됩니다\n",
    "다른파일에서 모듈을 실행할 때는 __name__에 파일명이 저장된다.\n",
    "'''\n",
    "print('다른 파일에서 사용할 때 모듈명:', __name__) \n",
    "\n",
    "if __name__ == '__main__' :\n",
    "    print('음 잘된다~') "
   ]
  }
 ],
 "metadata": {
  "kernelspec": {
   "display_name": "Python 3 (ipykernel)",
   "language": "python",
   "name": "python3"
  },
  "language_info": {
   "codemirror_mode": {
    "name": "ipython",
    "version": 3
   },
   "file_extension": ".py",
   "mimetype": "text/x-python",
   "name": "python",
   "nbconvert_exporter": "python",
   "pygments_lexer": "ipython3",
   "version": "3.9.7"
  }
 },
 "nbformat": 4,
 "nbformat_minor": 5
}
