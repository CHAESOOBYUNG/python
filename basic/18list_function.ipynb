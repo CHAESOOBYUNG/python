{
 "cells": [
  {
   "cell_type": "markdown",
   "id": "d6025f8e",
   "metadata": {},
   "source": [
    "#### 리스트 함수 insert, append"
   ]
  },
  {
   "cell_type": "code",
   "execution_count": 2,
   "id": "e13e93d9",
   "metadata": {},
   "outputs": [
    {
     "data": {
      "text/plain": [
       "[1, 2, 3, 4, 5, 6, 7]"
      ]
     },
     "execution_count": 2,
     "metadata": {},
     "output_type": "execute_result"
    }
   ],
   "source": [
    "list_ = [1,2,3,4,5]\n",
    "\n",
    "list_.append(6) #마지막에 추가\n",
    "list_.append(7)\n",
    "\n",
    "list_"
   ]
  },
  {
   "cell_type": "code",
   "execution_count": 3,
   "id": "4e6b5da5",
   "metadata": {
    "scrolled": true
   },
   "outputs": [
    {
     "data": {
      "text/plain": [
       "[1, 2, 3, 10, 4, 5, 6, 7]"
      ]
     },
     "execution_count": 3,
     "metadata": {},
     "output_type": "execute_result"
    }
   ],
   "source": [
    "list_.insert(3, 10)\n",
    "list_"
   ]
  },
  {
   "cell_type": "markdown",
   "id": "b507960b",
   "metadata": {},
   "source": [
    "#### 리스트의 값 삭제, remove, 내장함수 del, clear"
   ]
  },
  {
   "cell_type": "code",
   "execution_count": 6,
   "id": "1f5d315d",
   "metadata": {},
   "outputs": [
    {
     "data": {
      "text/plain": [
       "[34, 23, 23, 73, 347]"
      ]
     },
     "execution_count": 6,
     "metadata": {},
     "output_type": "execute_result"
    }
   ],
   "source": [
    "list1 = [34,23,65,23,73,347]\n",
    "list1\n",
    "\n",
    "list1.remove(65) #값을 이용해서 지움\n",
    "list1"
   ]
  },
  {
   "cell_type": "code",
   "execution_count": 7,
   "id": "02e643b7",
   "metadata": {},
   "outputs": [
    {
     "data": {
      "text/plain": [
       "[23, 23, 73, 347]"
      ]
     },
     "execution_count": 7,
     "metadata": {},
     "output_type": "execute_result"
    }
   ],
   "source": [
    "del list1[0] # del 지우고 싶은 인덱스\n",
    "list1"
   ]
  },
  {
   "cell_type": "code",
   "execution_count": 10,
   "id": "9273da39",
   "metadata": {},
   "outputs": [
    {
     "data": {
      "text/plain": [
       "[]"
      ]
     },
     "execution_count": 10,
     "metadata": {},
     "output_type": "execute_result"
    }
   ],
   "source": [
    "list1.clear() # 리스트를 비움\n",
    "list1"
   ]
  },
  {
   "cell_type": "markdown",
   "id": "a3af355d",
   "metadata": {},
   "source": [
    "#### 리스트의 탐색과 정렬\n",
    "- index, count, sort, reverse\n",
    "- 공용함수 max, min, len"
   ]
  },
  {
   "cell_type": "code",
   "execution_count": 25,
   "id": "2c9db4a5",
   "metadata": {},
   "outputs": [],
   "source": [
    "point = [65, 54, 86, 45, 100, 76, 99, 98, 65]"
   ]
  },
  {
   "cell_type": "code",
   "execution_count": 18,
   "id": "455d5e3f",
   "metadata": {},
   "outputs": [
    {
     "data": {
      "text/plain": [
       "8"
      ]
     },
     "execution_count": 18,
     "metadata": {},
     "output_type": "execute_result"
    }
   ],
   "source": [
    "max(point) # 리스트의 가장 높은 값\n",
    "min(point) # 리스트의 가장 낮은 값\n",
    "len(point) # 리스트의 길이"
   ]
  },
  {
   "cell_type": "code",
   "execution_count": 26,
   "id": "29cc699d",
   "metadata": {},
   "outputs": [
    {
     "name": "stdout",
     "output_type": "stream",
     "text": [
      "100이 존재하는 인덱스: 4\n",
      "65의 개수: 2\n"
     ]
    }
   ],
   "source": [
    "x = point.index(100)\n",
    "print('100이 존재하는 인덱스:', x)\n",
    "\n",
    "y = point.count(65)\n",
    "print('65의 개수:', y)\n",
    "\n"
   ]
  },
  {
   "cell_type": "code",
   "execution_count": 28,
   "id": "1c143c8e",
   "metadata": {},
   "outputs": [
    {
     "data": {
      "text/plain": [
       "[100, 99, 98, 86, 76, 65, 65, 54, 45]"
      ]
     },
     "execution_count": 28,
     "metadata": {},
     "output_type": "execute_result"
    }
   ],
   "source": [
    "point.sort() #오름차순 정렬\n",
    "point\n",
    "\n",
    "point.reverse() #내림차순 정렬\n",
    "point"
   ]
  },
  {
   "cell_type": "markdown",
   "id": "ed5dd728",
   "metadata": {},
   "source": [
    "#### 실습"
   ]
  },
  {
   "cell_type": "code",
   "execution_count": null,
   "id": "315be5f6",
   "metadata": {},
   "outputs": [],
   "source": [
    "# 사용자에게 값을 입력받아 입력받은 값이 있다면 삭제하는 프로그램 코드를 작성\n",
    "# 반복문으로 회전해서 index번째로 삭제\n",
    "kakao = ['무지', '네오', '어피치', '라이언', '제이지', '프로도']"
   ]
  },
  {
   "cell_type": "code",
   "execution_count": 15,
   "id": "052dbe80",
   "metadata": {},
   "outputs": [
    {
     "name": "stdout",
     "output_type": "stream",
     "text": [
      "삭제할 이름>무지\n"
     ]
    },
    {
     "data": {
      "text/plain": [
       "['네오', '어피치', '라이언', '제이지', '프로도']"
      ]
     },
     "execution_count": 15,
     "metadata": {},
     "output_type": "execute_result"
    }
   ],
   "source": [
    "\n",
    "name = input(\"삭제할 이름>\")\n",
    "\n",
    "for i in range(0, len(kakao) ) : #미만\n",
    "    if kakao[i] == name :\n",
    "        del(kakao[i]) #del kakao[i] \n",
    "        break\n",
    "        \n",
    "kakao"
   ]
  }
 ],
 "metadata": {
  "kernelspec": {
   "display_name": "Python 3 (ipykernel)",
   "language": "python",
   "name": "python3"
  },
  "language_info": {
   "codemirror_mode": {
    "name": "ipython",
    "version": 3
   },
   "file_extension": ".py",
   "mimetype": "text/x-python",
   "name": "python",
   "nbconvert_exporter": "python",
   "pygments_lexer": "ipython3",
   "version": "3.9.7"
  }
 },
 "nbformat": 4,
 "nbformat_minor": 5
}
