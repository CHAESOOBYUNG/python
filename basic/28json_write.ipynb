{
 "cells": [
  {
   "cell_type": "markdown",
   "id": "ff3931bd",
   "metadata": {},
   "source": [
    "#### json 파일 읽고 쓰기\n",
    "- dump : 딕셔너리를 제이슨 형식으로 쓴다\n",
    "- load : 제이슨 형식의 문자열을 딕셔너리로 변경"
   ]
  },
  {
   "cell_type": "code",
   "execution_count": 3,
   "id": "2ee44eae",
   "metadata": {},
   "outputs": [],
   "source": [
    "import json # !pip install 모듈명\n",
    "\n",
    "path = 'dataset/hello.json'\n"
   ]
  },
  {
   "cell_type": "code",
   "execution_count": 5,
   "id": "3b4fcdb8",
   "metadata": {},
   "outputs": [],
   "source": [
    "json_data = {\"id\": \"kkk123\", \"pw\": \"abc123\"} \n",
    "type(json_data)\n",
    "\n",
    "with open(path, 'w', encoding='utf-8-sig') as f :\n",
    "    json.dump(json_data, f, indent=True)  "
   ]
  },
  {
   "cell_type": "code",
   "execution_count": 13,
   "id": "9963d04b",
   "metadata": {},
   "outputs": [
    {
     "name": "stdout",
     "output_type": "stream",
     "text": [
      "{'id': 'kkk123', 'pw': 'abc123'}\n",
      "<class 'dict'>\n",
      "kkk123\n",
      "abc123\n",
      "dict_keys(['id', 'pw'])\n",
      "dict_items([('id', 'kkk123'), ('pw', 'abc123')])\n"
     ]
    }
   ],
   "source": [
    "# json파일 읽기\n",
    "with open(path, 'r', encoding='utf-8-sig') as f :\n",
    "    data_dict = json.load(f) \n",
    "    print(data_dict) \n",
    "    print( type(data_dict) ) \n",
    "    \n",
    "    # 데이터 다루기\n",
    "    print( data_dict[\"id\"] )\n",
    "    print( data_dict[\"pw\"] )\n",
    "    \n",
    "    print( data_dict.keys() ) # 반복문 회전\n",
    "    print( data_dict.items() ) # 반복문 회전\n",
    "    \n",
    "    "
   ]
  },
  {
   "cell_type": "markdown",
   "id": "e98d51af",
   "metadata": {},
   "source": [
    "#### json데이터의 형변환"
   ]
  },
  {
   "cell_type": "code",
   "execution_count": 19,
   "id": "580b841b",
   "metadata": {},
   "outputs": [
    {
     "data": {
      "text/plain": [
       "dict"
      ]
     },
     "execution_count": 19,
     "metadata": {},
     "output_type": "execute_result"
    }
   ],
   "source": [
    "dict_data = {\"a\": \"abcde\"} \n",
    "\n",
    "type(dict_data)\n",
    "str_data = json.dumps(dict_data) # dict -> 문자열로 형변환\n",
    "type(str_data)\n",
    "\n",
    "dict_data2 = json.loads(str_data) # 문자열 -> dict 형변환\n",
    "type(dict_data2)"
   ]
  }
 ],
 "metadata": {
  "kernelspec": {
   "display_name": "Python 3 (ipykernel)",
   "language": "python",
   "name": "python3"
  },
  "language_info": {
   "codemirror_mode": {
    "name": "ipython",
    "version": 3
   },
   "file_extension": ".py",
   "mimetype": "text/x-python",
   "name": "python",
   "nbconvert_exporter": "python",
   "pygments_lexer": "ipython3",
   "version": "3.9.7"
  }
 },
 "nbformat": 4,
 "nbformat_minor": 5
}
