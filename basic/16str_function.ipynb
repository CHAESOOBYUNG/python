{
 "cells": [
  {
   "cell_type": "markdown",
   "id": "ba2b9018",
   "metadata": {},
   "source": [
    "#### 파이썬의 문자열 다루는 함수들\n",
    "1. len - 길이 반환\n",
    "2. replace\n",
    "3. split\n",
    "4. find\n",
    "5. count\n",
    "\n",
    "> shift + tap 으로 함수의 정보를 확인할 수 있습니다"
   ]
  },
  {
   "cell_type": "code",
   "execution_count": 2,
   "id": "a06d79ca",
   "metadata": {},
   "outputs": [
    {
     "name": "stdout",
     "output_type": "stream",
     "text": [
      "문자열의 길이: 6\n"
     ]
    }
   ],
   "source": [
    "s = 'python'\n",
    "\n",
    "print('문자열의 길이:', len(s))"
   ]
  },
  {
   "cell_type": "code",
   "execution_count": 3,
   "id": "4396f029",
   "metadata": {},
   "outputs": [
    {
     "data": {
      "text/plain": [
       "4"
      ]
     },
     "execution_count": 3,
     "metadata": {},
     "output_type": "execute_result"
    }
   ],
   "source": [
    "# shift + tap\n",
    "\n",
    "len( range(1, 1001) ) #길이 1000\n",
    "len( [1,2,3,4] ) #길이 4"
   ]
  },
  {
   "cell_type": "code",
   "execution_count": 8,
   "id": "045d4e79",
   "metadata": {},
   "outputs": [
    {
     "data": {
      "text/plain": [
       "'파이썬 programming'"
      ]
     },
     "execution_count": 8,
     "metadata": {},
     "output_type": "execute_result"
    }
   ],
   "source": [
    "s = 'python programming'\n",
    "\n",
    "s = s.replace('python', '파이썬')\n",
    "\n",
    "s"
   ]
  },
  {
   "cell_type": "code",
   "execution_count": 9,
   "id": "ee548acd",
   "metadata": {},
   "outputs": [
    {
     "data": {
      "text/plain": [
       "['010', '1234', '5678']"
      ]
     },
     "execution_count": 9,
     "metadata": {},
     "output_type": "execute_result"
    }
   ],
   "source": [
    "s = '010-1234-5678'\n",
    "list_ = s.split('-')\n",
    "list_"
   ]
  },
  {
   "cell_type": "code",
   "execution_count": 21,
   "id": "a0f82454",
   "metadata": {},
   "outputs": [
    {
     "name": "stdout",
     "output_type": "stream",
     "text": [
      "사랑이 처음 발견된 위치: 32\n",
      "사랑이 발견된 횟수: 1\n"
     ]
    }
   ],
   "source": [
    "s = '''\n",
    "돌아보지 말고 떠나가라\n",
    "또 나를 찾지말고 사라져라\n",
    "너를 사랑했기에 후회없기에\n",
    "좋았던 기억만 가져가라.\n",
    "'''\n",
    "print('사랑이 처음 발견된 위치:', s.find('사랑') )\n",
    "print('사랑이 발견된 횟수:', s.count('사랑') )"
   ]
  }
 ],
 "metadata": {
  "kernelspec": {
   "display_name": "Python 3 (ipykernel)",
   "language": "python",
   "name": "python3"
  },
  "language_info": {
   "codemirror_mode": {
    "name": "ipython",
    "version": 3
   },
   "file_extension": ".py",
   "mimetype": "text/x-python",
   "name": "python",
   "nbconvert_exporter": "python",
   "pygments_lexer": "ipython3",
   "version": "3.9.7"
  }
 },
 "nbformat": 4,
 "nbformat_minor": 5
}
