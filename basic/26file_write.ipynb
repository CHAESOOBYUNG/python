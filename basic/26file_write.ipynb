{
 "cells": [
  {
   "cell_type": "markdown",
   "id": "7756230e",
   "metadata": {},
   "source": [
    "#### 파일출력"
   ]
  },
  {
   "cell_type": "code",
   "execution_count": 2,
   "id": "e6e9ac8b",
   "metadata": {},
   "outputs": [],
   "source": [
    "path = 'dataset/test.txt'\n",
    "\n",
    "f = open(path, mode='w', encoding='utf-8-sig') # utf8, CP949(EUC-KR) \n",
    "f.write('w모드는 글을 씁니다~')\n",
    "f.close()"
   ]
  },
  {
   "cell_type": "code",
   "execution_count": 11,
   "id": "781e7a50",
   "metadata": {},
   "outputs": [],
   "source": [
    "try :\n",
    "    f = open(path, mode='a', encoding='utf-8-sig') # utf8, CP949(EUC-KR) \n",
    "    f.write('\\na모드는 글을 추가합니다~') # \\n 줄바꿈, \\n 캐리지 리턴\n",
    "    \n",
    "except :\n",
    "    print('파일 저장 실패!!')\n",
    "finally :\n",
    "    f.close() \n"
   ]
  },
  {
   "cell_type": "markdown",
   "id": "99c814fd",
   "metadata": {},
   "source": [
    "#### 파일 입력\n",
    "1. read() - 통째로 읽는다\n",
    "2. readline() - 한줄 씩 읽는다\n",
    "3. readlines() - 한줄 씩 읽어서 리스트로 반환"
   ]
  },
  {
   "cell_type": "code",
   "execution_count": 20,
   "id": "f6b43442",
   "metadata": {},
   "outputs": [
    {
     "name": "stdout",
     "output_type": "stream",
     "text": [
      "w모드는 글을 씁니다~a모드는 글을 추가합니다\n",
      "\n",
      "a모드는 글을 추가합니다~\n",
      "\n",
      "a모드는 글을 추가합니다~\n",
      "\n",
      "a모드는 글을 추가합니다~\n"
     ]
    }
   ],
   "source": [
    "try :\n",
    "    f = open(path, mode='r', encoding='utf-8-sig')\n",
    "    \n",
    "    # a = f.read() \n",
    "    '''\n",
    "    print( len( f.readline() ) ) \n",
    "    print( len( f.readline() ) )\n",
    "    print( len( f.readline() ) )\n",
    "    print( len( f.readline() ) ) \n",
    "    print( len( f.readline() ) ) \n",
    "    '''\n",
    "    '''\n",
    "    while True :\n",
    "        a = f.readline()\n",
    "        if len(a) == 0 :\n",
    "            break\n",
    "        print(a) \n",
    "    '''    \n",
    "    \n",
    "    a = f.readlines()\n",
    "    \n",
    "    for i in a :\n",
    "        print(i)\n",
    "    # print(a)\n",
    "    \n",
    "except :\n",
    "    print('파일 읽기 실패')\n",
    "finally :\n",
    "    f.close()"
   ]
  }
 ],
 "metadata": {
  "kernelspec": {
   "display_name": "Python 3 (ipykernel)",
   "language": "python",
   "name": "python3"
  },
  "language_info": {
   "codemirror_mode": {
    "name": "ipython",
    "version": 3
   },
   "file_extension": ".py",
   "mimetype": "text/x-python",
   "name": "python",
   "nbconvert_exporter": "python",
   "pygments_lexer": "ipython3",
   "version": "3.9.7"
  }
 },
 "nbformat": 4,
 "nbformat_minor": 5
}
