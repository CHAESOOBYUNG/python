{
 "cells": [
  {
   "cell_type": "code",
   "execution_count": 7,
   "id": "7ee4fa90",
   "metadata": {
    "scrolled": true
   },
   "outputs": [
    {
     "data": {
      "text/plain": [
       "'0xac00'"
      ]
     },
     "execution_count": 7,
     "metadata": {},
     "output_type": "execute_result"
    }
   ],
   "source": [
    "# 정수형 타입\n",
    "\n",
    "num = 123\n",
    "type(num)\n",
    "\n",
    "num = -123\n",
    "type(num)\n",
    "\n",
    "# 2진수, 8진수, 16진수 형태로 표현\n",
    "# 0b, 0o, ox를 붙여서 표현 가능\n",
    "\n",
    "a = 0b1011\n",
    "a\n",
    "\n",
    "b = 0o77\n",
    "b\n",
    "\n",
    "c = 0xAC00\n",
    "c\n",
    "\n",
    "bin(a) # 2진수 형태로 출력\n",
    "oct(b) # 8진수 형태로 출력\n",
    "hex(c) # 16진수 형태로 출력\n",
    "\n"
   ]
  },
  {
   "cell_type": "markdown",
   "id": "c17d43b9",
   "metadata": {},
   "source": [
    "#### 실수형"
   ]
  },
  {
   "cell_type": "code",
   "execution_count": 10,
   "id": "ec4bc5cb",
   "metadata": {},
   "outputs": [
    {
     "data": {
      "text/plain": [
       "0.003141692"
      ]
     },
     "execution_count": 10,
     "metadata": {},
     "output_type": "execute_result"
    }
   ],
   "source": [
    "# float - 10진수 형태로 나타내거나, 지수표현법으로 표현가능\n",
    "\n",
    "a = 3.14\n",
    "type(a)\n",
    "\n",
    "b = 3.141592e5\n",
    "b\n",
    "\n",
    "c = 3.141692e-3\n",
    "c\n"
   ]
  },
  {
   "cell_type": "markdown",
   "id": "d069ee16",
   "metadata": {},
   "source": [
    "#### 논리형 boolean"
   ]
  },
  {
   "cell_type": "code",
   "execution_count": 14,
   "id": "3975a60e",
   "metadata": {},
   "outputs": [
    {
     "data": {
      "text/plain": [
       "bool"
      ]
     },
     "execution_count": 14,
     "metadata": {},
     "output_type": "execute_result"
    }
   ],
   "source": [
    "# true키워드는 True대문자로 작성해야 한다.\n",
    "b1 = True # False\n",
    "b1\n",
    "\n",
    "b2 = False\n",
    "b2\n",
    "\n",
    "type(b1)\n",
    "type(b2)\n"
   ]
  },
  {
   "cell_type": "code",
   "execution_count": 17,
   "id": "069a31d7",
   "metadata": {
    "scrolled": true
   },
   "outputs": [
    {
     "name": "stdout",
     "output_type": "stream",
     "text": [
      "True\n",
      "False\n",
      "True\n",
      "False\n",
      "True\n"
     ]
    }
   ],
   "source": [
    "# >, <, <=. >=, ==, !=\n",
    "a  = 5\n",
    "\n",
    "print(a < 10)\n",
    "print(a > 5)\n",
    "print(a == 5)\n",
    "print(a != 5) \n",
    "print('안녕' == '안녕')"
   ]
  },
  {
   "cell_type": "code",
   "execution_count": 21,
   "id": "b5ab924c",
   "metadata": {
    "scrolled": true
   },
   "outputs": [
    {
     "name": "stdout",
     "output_type": "stream",
     "text": [
      "False\n",
      "False\n",
      "True\n",
      "True\n"
     ]
    }
   ],
   "source": [
    "# 사전등재 순서대로 크기가 지정됨\n",
    "print('apple' > 'grape')\n",
    "print('감자' > '고구마')\n",
    "print('banana' < '버네이너')\n",
    "print('Banana' < 'banana')"
   ]
  }
 ],
 "metadata": {
  "kernelspec": {
   "display_name": "Python 3 (ipykernel)",
   "language": "python",
   "name": "python3"
  },
  "language_info": {
   "codemirror_mode": {
    "name": "ipython",
    "version": 3
   },
   "file_extension": ".py",
   "mimetype": "text/x-python",
   "name": "python",
   "nbconvert_exporter": "python",
   "pygments_lexer": "ipython3",
   "version": "3.9.7"
  }
 },
 "nbformat": 4,
 "nbformat_minor": 5
}
