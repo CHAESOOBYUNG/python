{
 "cells": [
  {
   "cell_type": "markdown",
   "id": "94d9174b",
   "metadata": {},
   "source": [
    "#### 모듈\n",
    "- 파이썬 안에 미리 만들어진 스크립트 파일들\n",
    "- 모듈안에는 변수, 함수, 클래스 등이 있다\n",
    "- 파이썬 공식문서에서 document를 참조하면 모듈의 종류를 알 수 있다.\n",
    "- tab버튼으로 확인하고, shift + tab 버튼으로 상세확인"
   ]
  },
  {
   "cell_type": "code",
   "execution_count": 1,
   "id": "f4cb33ff",
   "metadata": {},
   "outputs": [],
   "source": [
    "import math\n",
    "import statistics as st\n",
    "from math import pi, sqrt, ceil, log10 # math 모듈에서 나열된 기능을 가져온다"
   ]
  },
  {
   "cell_type": "code",
   "execution_count": 2,
   "id": "3faf4b8b",
   "metadata": {},
   "outputs": [
    {
     "data": {
      "text/plain": [
       "1.0"
      ]
     },
     "execution_count": 2,
     "metadata": {},
     "output_type": "execute_result"
    }
   ],
   "source": [
    "math.pi\n",
    "math.sqrt(3)\n",
    "math.ceil(5.3)\n",
    "math.log10(10)"
   ]
  },
  {
   "cell_type": "code",
   "execution_count": 3,
   "id": "1accaa96",
   "metadata": {},
   "outputs": [
    {
     "data": {
      "text/plain": [
       "1.0810874155219827"
      ]
     },
     "execution_count": 3,
     "metadata": {},
     "output_type": "execute_result"
    }
   ],
   "source": [
    "st.mean([1,2,3,4,5,6]) # 평균\n",
    "st.median([1,3,4,5]) # 중위값\n",
    "st.variance([2.75, 1.75, 1.25, 0.25, 0.5, 1.25, 3.5]) # 분산 (평균으로 부터 얼마나 떨어져있는가) \n",
    "st.stdev([1.5, 2.5, 2.5, 2.75, 3.25, 4.75]) # 표준편차"
   ]
  },
  {
   "cell_type": "code",
   "execution_count": 4,
   "id": "7ebf51cf",
   "metadata": {},
   "outputs": [
    {
     "data": {
      "text/plain": [
       "1.0"
      ]
     },
     "execution_count": 4,
     "metadata": {},
     "output_type": "execute_result"
    }
   ],
   "source": [
    "# from math import ~~~~, ~~~~\n",
    "pi\n",
    "sqrt(3)\n",
    "ceil(3.14)\n",
    "log10(10)"
   ]
  },
  {
   "cell_type": "code",
   "execution_count": 5,
   "id": "b18ed28c",
   "metadata": {},
   "outputs": [
    {
     "name": "stdout",
     "output_type": "stream",
     "text": [
      "프로그램 시간에 걸린시간0.6014058589935303\n",
      "꿈이 뭐야?\n",
      "니 자신에게 물어봐 꿈이 뭐야?\n"
     ]
    }
   ],
   "source": [
    "# 시간 관련 기능 1\n",
    "# 1970년 1월 1일 00시 기준 - 지금까지 경과한 시간을 초단위로 반환\n",
    "import time as t\n",
    "\n",
    "start = t.time()\n",
    "\n",
    "sum = 0\n",
    "for i in range(1, 5000000) :\n",
    "    sum += i\n",
    "    \n",
    "end = t.time()\n",
    " \n",
    "print(f'프로그램 시간에 걸린시간{end - start}') \n",
    "print('꿈이 뭐야?')\n",
    "t.sleep(10) # 10초 중단\n",
    "print('니 자신에게 물어봐 꿈이 뭐야?')"
   ]
  },
  {
   "cell_type": "code",
   "execution_count": 6,
   "id": "4b89989c",
   "metadata": {},
   "outputs": [
    {
     "name": "stdout",
     "output_type": "stream",
     "text": [
      "2022년 5월 2일 11시 8분 42초\n"
     ]
    }
   ],
   "source": [
    "# 운영체제의 시간을 확인하는 모듈 datetime\n",
    "import datetime as d\n",
    "x = d.datetime.today()\n",
    "\n",
    "print(f'{x.year}년 {x.month}월 {x.day}일 {x.hour}시 {x.minute}분 {x.second}초')"
   ]
  },
  {
   "cell_type": "markdown",
   "id": "50ec88b7",
   "metadata": {},
   "source": [
    "#### 사용자 정의모듈 확인\n",
    "- py확장자 파일로 사용자 모듈을 직접 만들고 테스트코드를 작성 후 사용합니다"
   ]
  },
  {
   "cell_type": "code",
   "execution_count": 11,
   "id": "d0659625",
   "metadata": {
    "scrolled": true
   },
   "outputs": [
    {
     "name": "stdout",
     "output_type": "stream",
     "text": [
      "모듈 임포트 연습시간\n"
     ]
    },
    {
     "data": {
      "text/plain": [
       "2.5"
      ]
     },
     "execution_count": 11,
     "metadata": {},
     "output_type": "execute_result"
    }
   ],
   "source": [
    "import calculator as c\n",
    "c.add(1,2)\n",
    "c.calc_sum(10)\n",
    "c.info()\n",
    "c.PI\n",
    "c.inch"
   ]
  }
 ],
 "metadata": {
  "kernelspec": {
   "display_name": "Python 3 (ipykernel)",
   "language": "python",
   "name": "python3"
  },
  "language_info": {
   "codemirror_mode": {
    "name": "ipython",
    "version": 3
   },
   "file_extension": ".py",
   "mimetype": "text/x-python",
   "name": "python",
   "nbconvert_exporter": "python",
   "pygments_lexer": "ipython3",
   "version": "3.9.7"
  }
 },
 "nbformat": 4,
 "nbformat_minor": 5
}
