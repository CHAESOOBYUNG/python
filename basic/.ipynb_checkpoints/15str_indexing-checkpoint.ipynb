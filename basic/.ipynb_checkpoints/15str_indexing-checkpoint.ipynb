{
 "cells": [
  {
   "cell_type": "markdown",
   "id": "f9601911",
   "metadata": {},
   "source": [
    "#### 문자열 다루기\n",
    "1. 문자열을 다루는 다양한 방법 indexing, slicing 방법을 제공합니다.\n",
    "2. 다양한 내장함수(기능)도 존재합니다."
   ]
  },
  {
   "cell_type": "code",
   "execution_count": 5,
   "id": "6bc76994",
   "metadata": {},
   "outputs": [
    {
     "name": "stdout",
     "output_type": "stream",
     "text": [
      "p\n",
      "y\n",
      "t\n",
      "h\n",
      "o\n",
      "n\n",
      "n\n"
     ]
    }
   ],
   "source": [
    "s = 'python' #[p, y, t, h, o, n]\n",
    "print(s[0])\n",
    "print(s[1])\n",
    "print(s[2])\n",
    "print(s[3])\n",
    "print(s[4])\n",
    "print(s[5])\n",
    "\n",
    "# print(s[5]) # 초과한 인덱스 값을 사용하면 에러"
   ]
  },
  {
   "cell_type": "code",
   "execution_count": 6,
   "id": "1e66af31",
   "metadata": {},
   "outputs": [
    {
     "name": "stdout",
     "output_type": "stream",
     "text": [
      "n\n",
      "o\n",
      "h\n",
      "t\n",
      "y\n",
      "p\n"
     ]
    }
   ],
   "source": [
    "#음수 -1은 문자의 마지막 번째를 의미함\n",
    "print(s[-1])\n",
    "print(s[-2])\n",
    "print(s[-3])\n",
    "print(s[-4])\n",
    "print(s[-5])\n",
    "print(s[-6])\n"
   ]
  },
  {
   "cell_type": "markdown",
   "id": "24c433dd",
   "metadata": {},
   "source": [
    "#### 문자열이나, 순차적 구조를 가진 list는 for문에서 사용이 가능합니다."
   ]
  },
  {
   "cell_type": "code",
   "execution_count": 11,
   "id": "88bdf344",
   "metadata": {},
   "outputs": [
    {
     "name": "stdout",
     "output_type": "stream",
     "text": [
      "python\n",
      "월화수목금토일"
     ]
    }
   ],
   "source": [
    "for i in s : # python\n",
    "    print(i, end='')\n",
    "    \n",
    "print()\n",
    "\n",
    "for i in '월화수목금토일' :\n",
    "    print(i, end='')"
   ]
  },
  {
   "cell_type": "markdown",
   "id": "7cb23d24",
   "metadata": {},
   "source": [
    "#### 문자열 슬라이싱"
   ]
  },
  {
   "cell_type": "code",
   "execution_count": 16,
   "id": "4c28bed3",
   "metadata": {},
   "outputs": [
    {
     "data": {
      "text/plain": [
       "'python'"
      ]
     },
     "execution_count": 16,
     "metadata": {},
     "output_type": "execute_result"
    }
   ],
   "source": [
    "s = 'python'\n",
    "\n",
    "s[0:6] # 0~6미만\n",
    "s[0:5]\n",
    "s[1:5]\n",
    "\n",
    "s[:] # 생략시에는 자동으로 시작~끝 값을 나타냄\n",
    "s[:4] # 0~4미만 \n",
    "s[0:] # 0~끝까지"
   ]
  },
  {
   "cell_type": "code",
   "execution_count": 25,
   "id": "32cbeb4e",
   "metadata": {},
   "outputs": [
    {
     "data": {
      "text/plain": [
       "'ph'"
      ]
     },
     "execution_count": 25,
     "metadata": {},
     "output_type": "execute_result"
    }
   ],
   "source": [
    "# 시작: 끝 미만 : step\n",
    "s[2:5:1]\n",
    "\n",
    "s[0:6:2] # python\n",
    "s[0:6:3]\n"
   ]
  },
  {
   "cell_type": "markdown",
   "id": "83587eff",
   "metadata": {},
   "source": [
    "#### 실습\n",
    "'''\n",
    "주민번호를 051105-3124567형식으로 입력받습니다.  \n",
    "최종 출력구문은: 2005년 11월 05일 16세 남자  \n",
    "\n",
    "힌트\n",
    "생년월일 부분을 슬라이싱으로 추출해서 변수로 저장  \n",
    "연도같은 경우는 int() 함수를 이용해서 정수로 변환해야 연도 나이를 구할수 있습니다.  \n",
    "7번째자리가 \"3\" or \"4\"라면 2000년대 생  \n",
    "\n",
    "'''"
   ]
  },
  {
   "cell_type": "code",
   "execution_count": null,
   "id": "05ad5bd0",
   "metadata": {},
   "outputs": [],
   "source": [
    "num = input('주민번호>')\n",
    "\n",
    "year = num[0:2]\n",
    "month = num[2:4]\n",
    "day = num[4:6]\n",
    "gender= num[7]\n",
    "gen = ''\n",
    "birth = 0 # 생년\n",
    "\n",
    "if gender == '1' or gender == '3' :\n",
    "    gen = '남자'\n",
    "else : \n",
    "    gen = '여자'\n",
    "\n",
    "# 나이 계산 2022 - 년도 \n",
    "if gender == '1' or gender == '2'\n",
    "    birth = 1900 + int(year)\n",
    "else : \n",
    "    birth = 2000 + int(year) "
   ]
  }
 ],
 "metadata": {
  "kernelspec": {
   "display_name": "Python 3 (ipykernel)",
   "language": "python",
   "name": "python3"
  },
  "language_info": {
   "codemirror_mode": {
    "name": "ipython",
    "version": 3
   },
   "file_extension": ".py",
   "mimetype": "text/x-python",
   "name": "python",
   "nbconvert_exporter": "python",
   "pygments_lexer": "ipython3",
   "version": "3.9.7"
  }
 },
 "nbformat": 4,
 "nbformat_minor": 5
}
