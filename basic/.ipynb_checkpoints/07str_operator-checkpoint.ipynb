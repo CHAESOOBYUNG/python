{
 "cells": [
  {
   "cell_type": "markdown",
   "id": "cc308d7f",
   "metadata": {},
   "source": [
    "#### 문자열의 덧셈, 곱셈"
   ]
  },
  {
   "cell_type": "code",
   "execution_count": 3,
   "id": "6f67a248",
   "metadata": {},
   "outputs": [
    {
     "name": "stdout",
     "output_type": "stream",
     "text": [
      "오늘 저녁은치킨 입니다!\n",
      "맛있겠다!\n",
      "오늘 저녁은오늘 저녁은오늘 저녁은오늘 저녁은오늘 저녁은오늘 저녁은오늘 저녁은오늘 저녁은오늘 저녁은오늘 저녁은\n",
      "--------------------------------------------------\n"
     ]
    }
   ],
   "source": [
    "s1 = '오늘 저녁은'\n",
    "s2 = '치킨 입니다!'\n",
    "\n",
    "print(s1 + s2 + \"\\n맛있겠다!\")\n",
    "\n",
    "print(s1 * 10) #문자열 곱셈\n",
    "\n",
    "print('-' * 50) \n",
    "\n"
   ]
  },
  {
   "cell_type": "code",
   "execution_count": null,
   "id": "a9f38067",
   "metadata": {},
   "outputs": [],
   "source": [
    "# 숫자 문자를 더하는 것은 허용되지 않는다\n",
    "# print(s1 + 3)\n",
    "# 실수 문자를 곱하는 것도 허용되지 않는다\n",
    "# print(s1 * 3.14)"
   ]
  },
  {
   "cell_type": "code",
   "execution_count": null,
   "id": "cf5ab3c9",
   "metadata": {},
   "outputs": [],
   "source": []
  }
 ],
 "metadata": {
  "kernelspec": {
   "display_name": "Python 3 (ipykernel)",
   "language": "python",
   "name": "python3"
  },
  "language_info": {
   "codemirror_mode": {
    "name": "ipython",
    "version": 3
   },
   "file_extension": ".py",
   "mimetype": "text/x-python",
   "name": "python",
   "nbconvert_exporter": "python",
   "pygments_lexer": "ipython3",
   "version": "3.9.7"
  }
 },
 "nbformat": 4,
 "nbformat_minor": 5
}
