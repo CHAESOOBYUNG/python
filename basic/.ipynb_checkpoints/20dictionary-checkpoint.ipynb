{
 "cells": [
  {
   "cell_type": "markdown",
   "id": "f5ac1a9a",
   "metadata": {},
   "source": [
    "사전 dictionary\n",
    "- {키: 값}\n",
    "- dict()"
   ]
  },
  {
   "cell_type": "code",
   "execution_count": 6,
   "id": "1f312c86",
   "metadata": {},
   "outputs": [
    {
     "data": {
      "text/plain": [
       "('길이', 3)"
      ]
     },
     "execution_count": 6,
     "metadata": {},
     "output_type": "execute_result"
    }
   ],
   "source": [
    "stu = dict()\n",
    "print(stu)\n",
    "\n",
    "# students = {1: \"리즈\", 2: \"장원영\", 3: \"안유진\"}\n",
    "students = {\"1\": \"리즈\", \"2\": \"장원영\", \"3\": \"안유진\"}\n",
    "\n",
    "type(students)\n",
    "students\n",
    "\n",
    "'길이', len(students)\n"
   ]
  },
  {
   "cell_type": "code",
   "execution_count": 8,
   "id": "e54f4110",
   "metadata": {},
   "outputs": [
    {
     "name": "stdout",
     "output_type": "stream",
     "text": [
      "True\n",
      "False\n",
      "True\n"
     ]
    }
   ],
   "source": [
    "# 딕셔너리를 사용하는 방법\n",
    "# 사전이름[키] \n",
    "# students[1]\n",
    "students[\"1\"]\n",
    "\n",
    "# students[\"sdfged\"] # 키가 없다면 에러\n",
    "\n",
    "# in 키워드를 이용해서 key의 존재 여부를 확인할 수 있습니다\n",
    "\n",
    "print(\"1\" in students ) #T\n",
    "print(\"sdfged\" in students ) #F\n",
    "print(\"sdfegd\" not in students ) #T\n"
   ]
  },
  {
   "cell_type": "markdown",
   "id": "6b8e81e1",
   "metadata": {},
   "source": [
    "#### 데이터 관리 (추가, 변경, 삭제)"
   ]
  },
  {
   "cell_type": "code",
   "execution_count": 10,
   "id": "c9823574",
   "metadata": {},
   "outputs": [
    {
     "data": {
      "text/plain": [
       "{'apple': '사과', 'peach': '복숭아'}"
      ]
     },
     "execution_count": 10,
     "metadata": {},
     "output_type": "execute_result"
    }
   ],
   "source": [
    "eng = {\"apple\" : \"사과\", \"peach\" : \"복숭아\"}\n",
    "eng"
   ]
  },
  {
   "cell_type": "code",
   "execution_count": null,
   "id": "2f0a0321",
   "metadata": {},
   "outputs": [],
   "source": [
    "eng[\"melon\"] = \"멜론\"\n",
    "eng[\"book\"] = \"서적\"\n",
    "eng"
   ]
  },
  {
   "cell_type": "code",
   "execution_count": 16,
   "id": "a121ebeb",
   "metadata": {},
   "outputs": [
    {
     "data": {
      "text/plain": [
       "{'apple': '사과', 'peach': '복숭아', 'melon': '멜론', 'book': '책'}"
      ]
     },
     "execution_count": 16,
     "metadata": {},
     "output_type": "execute_result"
    }
   ],
   "source": [
    "# 값의 변경\n",
    "# 사전에 이미 존재하는 key를 사용하여 변경할 수 있습니다\n",
    "eng[\"book\"] = \"책\"\n",
    "eng"
   ]
  },
  {
   "cell_type": "code",
   "execution_count": 17,
   "id": "4567456d",
   "metadata": {},
   "outputs": [
    {
     "data": {
      "text/plain": [
       "{'apple': '사과', 'peach': '복숭아', 'melon': '멜론'}"
      ]
     },
     "execution_count": 17,
     "metadata": {},
     "output_type": "execute_result"
    }
   ],
   "source": [
    "# 값의 삭제 del(키)\n",
    "del eng[\"book\"] # del(eng[\"book\"])\n",
    "eng"
   ]
  },
  {
   "cell_type": "markdown",
   "id": "fc1f4d4f",
   "metadata": {},
   "source": [
    "#### 딕셔너리 함수 keys, values, 반복문"
   ]
  },
  {
   "cell_type": "code",
   "execution_count": 19,
   "id": "9043aefe",
   "metadata": {},
   "outputs": [
    {
     "name": "stdout",
     "output_type": "stream",
     "text": [
      "apple\n",
      "사과\n",
      "peach\n",
      "복숭아\n",
      "melon\n",
      "멜론\n"
     ]
    }
   ],
   "source": [
    "for i in eng:\n",
    "    print(i) # 키를 뽑는다\n",
    "    print(eng[i]) # 값을 얻는다"
   ]
  },
  {
   "cell_type": "code",
   "execution_count": 23,
   "id": "fd5e18fa",
   "metadata": {},
   "outputs": [
    {
     "name": "stdout",
     "output_type": "stream",
     "text": [
      "dict_keys(['apple', 'peach', 'melon'])\n",
      "apple\n",
      "peach\n",
      "melon\n",
      "dict_values(['사과', '복숭아', '멜론'])\n",
      "사과\n",
      "복숭아\n",
      "멜론\n"
     ]
    }
   ],
   "source": [
    "print( eng.keys() )\n",
    "\n",
    "for i in eng.keys() :\n",
    "    print(i)\n",
    "    \n",
    "print( eng.values() )\n",
    "for i in eng.values() :\n",
    "    print(i)"
   ]
  },
  {
   "cell_type": "markdown",
   "id": "3e758186",
   "metadata": {},
   "source": [
    "#### 실습\n",
    "'''\n",
    "dictionary를 이용한 사전만들기\n",
    "\n",
    "1. eng_kor이라는 이름으로 빈 사전을 하나 생성합니다\n",
    "\n",
    "2. 사용자가 '그만'을 입력할 때 까지 영단어를 입력받습니다.\n",
    "\n",
    "3. 총 2번을 입력받는데, 영단어를 key로, 한글 뜻은 value값으로 지정해서 사전에 등록하세요.\n",
    "\n",
    "4. '그만'을 입력하여 단어장 만들기를 종료하면\n",
    "그동안 입력받았던 사전의 내부 데이터를 반복문으로 전부 출력해주세요.\n",
    "\n",
    "'''"
   ]
  },
  {
   "cell_type": "code",
   "execution_count": null,
   "id": "47f6fdb5",
   "metadata": {},
   "outputs": [],
   "source": [
    "eng_kor = {}\n",
    "\n",
    "while True :\n",
    "    key = input(\"영단어>\")\n",
    "    \n",
    "    if key == \"그만\" :\n",
    "        break\n",
    "    elif key in eng_kor :\n",
    "        print('영단어가 이미 존재합니다')\n",
    "        continue \n",
    "    else :\n",
    "        val = input(\"뜻>\")\n",
    "        eng_kor[key] = val\n",
    "        print('영단어를 추가했습니다')\n",
    "        \n",
    "for i in eng_kor :\n",
    "    print( f'{i} = {eng_kor[i]}')\n",
    "        \n",
    "    "
   ]
  }
 ],
 "metadata": {
  "kernelspec": {
   "display_name": "Python 3 (ipykernel)",
   "language": "python",
   "name": "python3"
  },
  "language_info": {
   "codemirror_mode": {
    "name": "ipython",
    "version": 3
   },
   "file_extension": ".py",
   "mimetype": "text/x-python",
   "name": "python",
   "nbconvert_exporter": "python",
   "pygments_lexer": "ipython3",
   "version": "3.9.7"
  }
 },
 "nbformat": 4,
 "nbformat_minor": 5
}
