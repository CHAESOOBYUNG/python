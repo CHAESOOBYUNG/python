{
 "cells": [
  {
   "cell_type": "markdown",
   "id": "7756230e",
   "metadata": {},
   "source": [
    "#### 파일출력"
   ]
  },
  {
   "cell_type": "code",
   "execution_count": 2,
   "id": "e6e9ac8b",
   "metadata": {},
   "outputs": [],
   "source": [
    "path = 'dataset/test.txt'\n",
    "\n",
    "f = open(path, mode='w', encoding='utf-8-sig') # utf8, CP949(EUC-KR) \n",
    "f.write('w모드는 글을 씁니다~')\n",
    "f.close()"
   ]
  },
  {
   "cell_type": "code",
   "execution_count": 11,
   "id": "781e7a50",
   "metadata": {},
   "outputs": [],
   "source": [
    "try :\n",
    "    f = open(path, mode='a', encoding='utf-8-sig') # utf8, CP949(EUC-KR) \n",
    "    f.write('\\na모드는 글을 추가합니다~') # \\n 줄바꿈, \\n 캐리지 리턴\n",
    "    \n",
    "except :\n",
    "    print('파일 저장 실패!!')\n",
    "finally :\n",
    "    f.close() \n"
   ]
  },
  {
   "cell_type": "markdown",
   "id": "99c814fd",
   "metadata": {},
   "source": [
    "#### 파일 입력\n",
    "1. read() - 통째로 읽는다\n",
    "2. readline() - 한줄 씩 읽는다\n",
    "3. readlines() - 한줄 씩 읽어서 리스트로 반환"
   ]
  },
  {
   "cell_type": "code",
   "execution_count": 20,
   "id": "f6b43442",
   "metadata": {},
   "outputs": [
    {
     "name": "stdout",
     "output_type": "stream",
     "text": [
      "w모드는 글을 씁니다~a모드는 글을 추가합니다\n",
      "\n",
      "a모드는 글을 추가합니다~\n",
      "\n",
      "a모드는 글을 추가합니다~\n",
      "\n",
      "a모드는 글을 추가합니다~\n"
     ]
    }
   ],
   "source": [
    "try :\n",
    "    f = open(path, mode='r', encoding='utf-8-sig')\n",
    "    \n",
    "    # a = f.read() \n",
    "    '''\n",
    "    print( len( f.readline() ) ) \n",
    "    print( len( f.readline() ) )\n",
    "    print( len( f.readline() ) )\n",
    "    print( len( f.readline() ) ) \n",
    "    print( len( f.readline() ) ) \n",
    "    '''\n",
    "    '''\n",
    "    while True :\n",
    "        a = f.readline()\n",
    "        if len(a) == 0 :\n",
    "            break\n",
    "        print(a) \n",
    "    '''    \n",
    "    \n",
    "    a = f.readlines()\n",
    "    \n",
    "    for i in a :\n",
    "        print(i)\n",
    "    # print(a)\n",
    "    \n",
    "except :\n",
    "    print('파일 읽기 실패')\n",
    "finally :\n",
    "    f.close()"
   ]
  },
  {
   "cell_type": "markdown",
   "id": "bb5e7cc6",
   "metadata": {},
   "source": [
    "#### with open() as 변수명"
   ]
  },
  {
   "cell_type": "code",
   "execution_count": 1,
   "id": "7a033ab4",
   "metadata": {},
   "outputs": [],
   "source": [
    "path = 'dataset/test.txt'"
   ]
  },
  {
   "cell_type": "code",
   "execution_count": 2,
   "id": "aff33221",
   "metadata": {
    "scrolled": true
   },
   "outputs": [
    {
     "name": "stdout",
     "output_type": "stream",
     "text": [
      "['w모드는 글을 씁니다~a모드는 글을 추가합니다\\n', 'a모드는 글을 추가합니다~\\n', 'a모드는 글을 추가합니다~\\n', 'a모드는 글을 추가합니다~']\n"
     ]
    }
   ],
   "source": [
    "with open(path, 'r', encoding='utf-8-sig') as f :\n",
    "    data = f.readlines() #반환 리스트\n",
    "    print(data) "
   ]
  },
  {
   "cell_type": "markdown",
   "id": "7a18f2bb",
   "metadata": {},
   "source": [
    "#### 실습\n",
    "'''\n",
    "사용자의 입력을 파일(xxx.txt)에 저장하는 프로그램을 작성하세요.  \n",
    "(단, 프로그램을 다시 실행하더라도 파일명이 동일하다면  \n",
    "기존 작성한 내용을 그대로 유지하고  \n",
    "새로 입력된 내용이 추가되어야 합니다.  \n",
    "파일명도 마지막에 입력받아서 생성하세요.)  \n",
    "'''"
   ]
  },
  {
   "cell_type": "code",
   "execution_count": 6,
   "id": "d3f1e49e",
   "metadata": {},
   "outputs": [
    {
     "name": "stdout",
     "output_type": "stream",
     "text": [
      "파일명>aaa\n"
     ]
    },
    {
     "ename": "LookupError",
     "evalue": "unknown encoding: uft-8-sig",
     "output_type": "error",
     "traceback": [
      "\u001b[1;31m---------------------------------------------------------------------------\u001b[0m",
      "\u001b[1;31mLookupError\u001b[0m                               Traceback (most recent call last)",
      "\u001b[1;32mC:\\Users\\CHAESO~1\\AppData\\Local\\Temp/ipykernel_6112/2714084232.py\u001b[0m in \u001b[0;36m<module>\u001b[1;34m\u001b[0m\n\u001b[0;32m      1\u001b[0m \u001b[0mf_name\u001b[0m \u001b[1;33m=\u001b[0m \u001b[0minput\u001b[0m\u001b[1;33m(\u001b[0m\u001b[1;34m'파일명>'\u001b[0m\u001b[1;33m)\u001b[0m\u001b[1;33m\u001b[0m\u001b[1;33m\u001b[0m\u001b[0m\n\u001b[0;32m      2\u001b[0m \u001b[1;33m\u001b[0m\u001b[0m\n\u001b[1;32m----> 3\u001b[1;33m \u001b[1;32mwith\u001b[0m \u001b[0mopen\u001b[0m\u001b[1;33m(\u001b[0m\u001b[1;34mf'dataset/{f_name}.txt'\u001b[0m\u001b[1;33m,\u001b[0m \u001b[0mmode\u001b[0m\u001b[1;33m=\u001b[0m\u001b[1;34m'a'\u001b[0m\u001b[1;33m,\u001b[0m \u001b[0mencoding\u001b[0m\u001b[1;33m=\u001b[0m\u001b[1;34m'uft-8-sig'\u001b[0m\u001b[1;33m)\u001b[0m \u001b[1;32mas\u001b[0m \u001b[0mf\u001b[0m \u001b[1;33m:\u001b[0m\u001b[1;33m\u001b[0m\u001b[1;33m\u001b[0m\u001b[0m\n\u001b[0m\u001b[0;32m      4\u001b[0m \u001b[1;33m\u001b[0m\u001b[0m\n\u001b[0;32m      5\u001b[0m     \u001b[1;32mwhile\u001b[0m \u001b[1;32mTrue\u001b[0m \u001b[1;33m:\u001b[0m\u001b[1;33m\u001b[0m\u001b[1;33m\u001b[0m\u001b[0m\n",
      "\u001b[1;31mLookupError\u001b[0m: unknown encoding: uft-8-sig"
     ]
    }
   ],
   "source": [
    "f_name = input('파일명>')\n",
    "\n",
    "with open(f'dataset/{f_name}.txt', mode='a', encoding='uft-8-sig') as f :\n",
    "    \n",
    "    while True :\n",
    "        data = input('>')\n",
    "        \n",
    "        if data == '그만' :\n",
    "            break\n",
    "            \n",
    "        f.write(data + '\\n') # 한줄씩 쓰기 \n",
    "        # writelines() # 데이터를 한번에 쓰기"
   ]
  }
 ],
 "metadata": {
  "kernelspec": {
   "display_name": "Python 3 (ipykernel)",
   "language": "python",
   "name": "python3"
  },
  "language_info": {
   "codemirror_mode": {
    "name": "ipython",
    "version": 3
   },
   "file_extension": ".py",
   "mimetype": "text/x-python",
   "name": "python",
   "nbconvert_exporter": "python",
   "pygments_lexer": "ipython3",
   "version": "3.9.7"
  }
 },
 "nbformat": 4,
 "nbformat_minor": 5
}
